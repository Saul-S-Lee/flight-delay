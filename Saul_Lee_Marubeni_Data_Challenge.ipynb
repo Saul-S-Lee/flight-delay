{
 "cells": [
  {
   "cell_type": "markdown",
   "metadata": {},
   "source": [
    "# Data Challenge - Marubeni\n",
    "\n",
    "### Submitted by: Saul Lee\n",
    "### 2018-08-07"
   ]
  },
  {
   "cell_type": "markdown",
   "metadata": {},
   "source": [
    "### Motivation:\n",
    "Nearly a quarter of domestic flights in the U.S. are delayed or canceled; this costs your client,\n",
    "American Airlines, billions of dollars per year. American Airlines’ executive leadership are\n",
    "concerned about systemic inefficiencies that cause these delays and their impact on the public\n",
    "perception of their brand versus their competitors."
   ]
  },
  {
   "cell_type": "markdown",
   "metadata": {},
   "source": [
    "### Goal: Analyze the data and provide actionable insights to the executive leadership at American Airlines\n",
    "- Sources of the systematic inefficiencies that cause delays, recommendations to for mitigation\n",
    "- Performance of AA versus other competitors"
   ]
  },
  {
   "cell_type": "code",
   "execution_count": 2,
   "metadata": {},
   "outputs": [],
   "source": [
    "import numpy as np\n",
    "import pandas as pd\n",
    "from matplotlib import pyplot as plt\n",
    "import seaborn as sns\n",
    "from sklearn.preprocessing import LabelBinarizer, LabelEncoder, StandardScaler\n",
    "import missingno as msno\n",
    "import datetime\n",
    "from sklearn.model_selection import train_test_split, GridSearchCV\n",
    "from sklearn.ensemble import RandomForestRegressor, RandomForestClassifier\n",
    "from sklearn.metrics import confusion_matrix, f1_score, classification_report, recall_score, precision_score\n",
    "from datetime import timedelta\n",
    "import itertools\n",
    "%matplotlib inline"
   ]
  },
  {
   "cell_type": "code",
   "execution_count": 3,
   "metadata": {},
   "outputs": [],
   "source": [
    "# define helper functions\n",
    "\n",
    "def encodePD(inPD):\n",
    "    \"\"\"encode the categorical columns in a data frame into numerical values\n",
    "    \n",
    "    \"\"\"\n",
    "    outPD = pd.DataFrame()\n",
    "    for key,val in inPD.iteritems():\n",
    "        # check if the column is numeric, if not, encode the data\n",
    "        if inPD[key].dtype == 'O':\n",
    "            outPD[key],_ = encoder(val)\n",
    "        else:\n",
    "            outPD[key] = val\n",
    "    \n",
    "    return outPD\n",
    "\n",
    "def encoder(inArray):\n",
    "    \"\"\"purpose: encode categorical data into numerical values\n",
    "    \n",
    "    \"\"\"\n",
    "    le = LabelEncoder()\n",
    "    le.fit(inArray)\n",
    "    encoded = le.transform(inArray)\n",
    "    \n",
    "    return encoded,le\n",
    "\n",
    "def checkRowsMissing(in_df):\n",
    "    \"\"\"checks a dataframe for number of n/a values\"\"\"\n",
    "    \n",
    "    num_rows,num_cols = in_df.shape\n",
    "    bool_mat = pd.DataFrame.isna(in_df)\n",
    "    \n",
    "    if num_cols > 1:\n",
    "        # sum in axis=0 direction to get the distribution with respect to columns\n",
    "        print(\"Missing data distribution\\n\\n{}\\n\".format(np.sum(bool_mat,axis=0)))\n",
    "    \n",
    "    # sum in axis=1 direction to get the number of rows missing\n",
    "    bool_mat = np.sum(bool_mat,axis=1)\n",
    "    num_missing = np.count_nonzero(bool_mat)\n",
    "    print(\"{} out of {} rows with missing data, about {:0.2f} %\".format(num_missing,num_rows,num_missing/num_rows * 100))\n",
    "    \n",
    "    #return num_missing,bool_mat\n",
    "\n",
    "\n",
    "def plot_confusion_matrix(cm,\n",
    "                          normalize=False,\n",
    "                          title='Confusion matrix',\n",
    "                          cmap=plt.cm.Blues):\n",
    "    \"\"\"\n",
    "    This function prints and plots the confusion matrix.\n",
    "    Normalization can be applied by setting `normalize=True`.\n",
    "    \"\"\"\n",
    "    if normalize:\n",
    "        cm = cm.astype('float') / cm.sum(axis=1)[:, np.newaxis]\n",
    "        print(\"Normalized confusion matrix\")\n",
    "    else:\n",
    "        print('Confusion matrix, without normalization')\n",
    "\n",
    "    print(cm)\n",
    "\n",
    "    plt.imshow(cm, interpolation='nearest', cmap=cmap)\n",
    "    plt.title(title)\n",
    "    plt.colorbar()\n",
    "    tick_marks = np.arange(2)\n",
    "    plt.xticks(tick_marks, (\"0\", \"1\"), rotation=45)\n",
    "    plt.yticks(tick_marks, (\"0\", \"1\"))\n",
    "\n",
    "\n",
    "    fmt = '.2f' if normalize else 'd'\n",
    "    thresh = cm.max() / 2.\n",
    "    for i, j in itertools.product(range(cm.shape[0]), range(cm.shape[1])):\n",
    "        plt.text(j, i, format(cm[i, j], fmt),\n",
    "                 horizontalalignment=\"center\",\n",
    "                 color=\"white\" if cm[i, j] > thresh else \"black\")\n",
    "\n",
    "    plt.tight_layout()\n",
    "    plt.ylabel('True label')\n",
    "    plt.xlabel('Predicted label')\n",
    "\n",
    "def mergeAirports(in_airports,airports_merged):\n",
    "    \"\"\"function to convert the airports with the 5-digit FAA id to 3 letter IATA codes\n",
    "\n",
    "    in_airports is a Series of airport codes\n",
    "    airports_merged is a Series containing the 5-digit code in the index and the 3 letter codes in the data\n",
    "    \"\"\"\n",
    "    \n",
    "    converted_airports = in_airports.astype(str)\n",
    "    converted_airports = converted_airports.map(airports_merged)\n",
    "    temp_bool = converted_airports.isna()\n",
    "\n",
    "    temp_list = []\n",
    "    for i,val in enumerate(temp_bool):\n",
    "        if val == False:\n",
    "            temp_list.append(converted_airports.loc[i])\n",
    "        else:\n",
    "            temp_list.append(in_airports.loc[i])\n",
    "    \n",
    "        if (i % 250000 == 0):\n",
    "            print(i)\n",
    "    print(\"Done i = {}\".format(i))\n",
    "    \n",
    "    return temp_list\n",
    "\n",
    "def dayMarker(in_date,in_PD,offset=0):\n",
    "    \"\"\"function to marker a row to 1 if the date matches in_date\n",
    "    \n",
    "    in_date = datetime object containing the date of interest\n",
    "    in_PD = Series or DataFrame where the date is contained within a column 'DATE'\n",
    "    \"\"\"\n",
    "    if offset ==0:\n",
    "        out_col = (in_PD['DATE'] == in_date).astype(int)\n",
    "    else:\n",
    "        offset=abs(offset)\n",
    "        out_col = ((in_PD['DATE'] != in_date).values & \\\n",
    "                   (in_PD['DATE'] >= in_date - timedelta(days=offset)).values & \\\n",
    "                   (in_PD['DATE'] <= in_date + timedelta(days=offset)).values).astype(int)\n",
    "    \n",
    "    return out_col\n",
    "\n",
    "def holidayMarker(in_holidays_PD,in_PD,offset_days=[0]):\n",
    "    \"\"\"function to mark holidays\n",
    "    \n",
    "    in_holidays_PD = DataFrame where the holidays are stored in a column 'DATE'\n",
    "    in_PD = Series or DataFrame where the date is contained within a column 'DATE'\n",
    "    offset_days = list containing days around the holiday to check for, default is zero\n",
    "    \"\"\"\n",
    "    \n",
    "    out_Array = np.zeros((in_PD.shape[0],len(offset_days)))\n",
    "    \n",
    "    for i,row in in_holidays_PD.iterrows():\n",
    "        cur_date = row['DATE']\n",
    "        for j,cur_offset in enumerate(offset_days):\n",
    "            out_Array[:,j] = out_Array[:,j] + dayMarker(cur_date,in_PD,cur_offset)\n",
    "    \n",
    "    return out_Array\n",
    "\n",
    "def extractDigits(in_Series):\n",
    "    \"\"\" Extracts the hour and time from a 4 digit time code contained in a pandas series, returns 2 numpy arrays\n",
    "    \"\"\"\n",
    "    # get rid of leading and trailing spaces\n",
    "    temp_Series = in_Series.str.strip()\n",
    "    \n",
    "    # extract the hour and minute\n",
    "    hour_Series = temp_Series.str.slice(start=0,stop=2).values.astype(float)\n",
    "    minute_Series = temp_Series.str.slice(start=2,stop=4).values.astype(float)\n",
    "    \n",
    "    return hour_Series,minute_Series"
   ]
  },
  {
   "cell_type": "markdown",
   "metadata": {},
   "source": [
    "## 1. Import data, clean, and preprocess\n",
    "\n",
    "The flights data is contained in the csv file: 'flights.csv'"
   ]
  },
  {
   "cell_type": "code",
   "execution_count": 148,
   "metadata": {},
   "outputs": [
    {
     "name": "stderr",
     "output_type": "stream",
     "text": [
      "/Users/sl1885/anaconda/envs/insight/lib/python3.6/site-packages/IPython/core/interactiveshell.py:2785: DtypeWarning: Columns (7,8) have mixed types. Specify dtype option on import or set low_memory=False.\n",
      "  interactivity=interactivity, compiler=compiler, result=result)\n"
     ]
    },
    {
     "data": {
      "text/plain": [
       "(5819079, 31)"
      ]
     },
     "execution_count": 148,
     "metadata": {},
     "output_type": "execute_result"
    }
   ],
   "source": [
    "# read the data from the csv\n",
    "raw_df = pd.read_csv('flights.csv',dtype={'SCHEDULED_DEPARTURE': str, \n",
    "                                          'DEPARTURE_TIME': str,\n",
    "                                          'WHEELS_OFF':str,\n",
    "                                          'WHEELS_ON':str,\n",
    "                                          'SCHEDULED_ARRIVAL':str,\n",
    "                                          'ARRIVAL_TIME':str\n",
    "                                         })\n",
    "raw_df.shape"
   ]
  },
  {
   "cell_type": "code",
   "execution_count": 149,
   "metadata": {},
   "outputs": [
    {
     "data": {
      "text/html": [
       "<div>\n",
       "<style scoped>\n",
       "    .dataframe tbody tr th:only-of-type {\n",
       "        vertical-align: middle;\n",
       "    }\n",
       "\n",
       "    .dataframe tbody tr th {\n",
       "        vertical-align: top;\n",
       "    }\n",
       "\n",
       "    .dataframe thead th {\n",
       "        text-align: right;\n",
       "    }\n",
       "</style>\n",
       "<table border=\"1\" class=\"dataframe\">\n",
       "  <thead>\n",
       "    <tr style=\"text-align: right;\">\n",
       "      <th></th>\n",
       "      <th>YEAR</th>\n",
       "      <th>MONTH</th>\n",
       "      <th>DAY</th>\n",
       "      <th>DAY_OF_WEEK</th>\n",
       "      <th>AIRLINE</th>\n",
       "      <th>FLIGHT_NUMBER</th>\n",
       "      <th>TAIL_NUMBER</th>\n",
       "      <th>ORIGIN_AIRPORT</th>\n",
       "      <th>DESTINATION_AIRPORT</th>\n",
       "      <th>SCHEDULED_DEPARTURE</th>\n",
       "      <th>...</th>\n",
       "      <th>ARRIVAL_TIME</th>\n",
       "      <th>ARRIVAL_DELAY</th>\n",
       "      <th>DIVERTED</th>\n",
       "      <th>CANCELLED</th>\n",
       "      <th>CANCELLATION_REASON</th>\n",
       "      <th>AIR_SYSTEM_DELAY</th>\n",
       "      <th>SECURITY_DELAY</th>\n",
       "      <th>AIRLINE_DELAY</th>\n",
       "      <th>LATE_AIRCRAFT_DELAY</th>\n",
       "      <th>WEATHER_DELAY</th>\n",
       "    </tr>\n",
       "  </thead>\n",
       "  <tbody>\n",
       "    <tr>\n",
       "      <th>0</th>\n",
       "      <td>2015</td>\n",
       "      <td>1</td>\n",
       "      <td>1</td>\n",
       "      <td>4</td>\n",
       "      <td>AS</td>\n",
       "      <td>98</td>\n",
       "      <td>N407AS</td>\n",
       "      <td>ANC</td>\n",
       "      <td>SEA</td>\n",
       "      <td>0005</td>\n",
       "      <td>...</td>\n",
       "      <td>0408</td>\n",
       "      <td>-22.0</td>\n",
       "      <td>0</td>\n",
       "      <td>0</td>\n",
       "      <td>NaN</td>\n",
       "      <td>NaN</td>\n",
       "      <td>NaN</td>\n",
       "      <td>NaN</td>\n",
       "      <td>NaN</td>\n",
       "      <td>NaN</td>\n",
       "    </tr>\n",
       "    <tr>\n",
       "      <th>1</th>\n",
       "      <td>2015</td>\n",
       "      <td>1</td>\n",
       "      <td>1</td>\n",
       "      <td>4</td>\n",
       "      <td>AA</td>\n",
       "      <td>2336</td>\n",
       "      <td>N3KUAA</td>\n",
       "      <td>LAX</td>\n",
       "      <td>PBI</td>\n",
       "      <td>0010</td>\n",
       "      <td>...</td>\n",
       "      <td>0741</td>\n",
       "      <td>-9.0</td>\n",
       "      <td>0</td>\n",
       "      <td>0</td>\n",
       "      <td>NaN</td>\n",
       "      <td>NaN</td>\n",
       "      <td>NaN</td>\n",
       "      <td>NaN</td>\n",
       "      <td>NaN</td>\n",
       "      <td>NaN</td>\n",
       "    </tr>\n",
       "    <tr>\n",
       "      <th>2</th>\n",
       "      <td>2015</td>\n",
       "      <td>1</td>\n",
       "      <td>1</td>\n",
       "      <td>4</td>\n",
       "      <td>US</td>\n",
       "      <td>840</td>\n",
       "      <td>N171US</td>\n",
       "      <td>SFO</td>\n",
       "      <td>CLT</td>\n",
       "      <td>0020</td>\n",
       "      <td>...</td>\n",
       "      <td>0811</td>\n",
       "      <td>5.0</td>\n",
       "      <td>0</td>\n",
       "      <td>0</td>\n",
       "      <td>NaN</td>\n",
       "      <td>NaN</td>\n",
       "      <td>NaN</td>\n",
       "      <td>NaN</td>\n",
       "      <td>NaN</td>\n",
       "      <td>NaN</td>\n",
       "    </tr>\n",
       "    <tr>\n",
       "      <th>3</th>\n",
       "      <td>2015</td>\n",
       "      <td>1</td>\n",
       "      <td>1</td>\n",
       "      <td>4</td>\n",
       "      <td>AA</td>\n",
       "      <td>258</td>\n",
       "      <td>N3HYAA</td>\n",
       "      <td>LAX</td>\n",
       "      <td>MIA</td>\n",
       "      <td>0020</td>\n",
       "      <td>...</td>\n",
       "      <td>0756</td>\n",
       "      <td>-9.0</td>\n",
       "      <td>0</td>\n",
       "      <td>0</td>\n",
       "      <td>NaN</td>\n",
       "      <td>NaN</td>\n",
       "      <td>NaN</td>\n",
       "      <td>NaN</td>\n",
       "      <td>NaN</td>\n",
       "      <td>NaN</td>\n",
       "    </tr>\n",
       "    <tr>\n",
       "      <th>4</th>\n",
       "      <td>2015</td>\n",
       "      <td>1</td>\n",
       "      <td>1</td>\n",
       "      <td>4</td>\n",
       "      <td>AS</td>\n",
       "      <td>135</td>\n",
       "      <td>N527AS</td>\n",
       "      <td>SEA</td>\n",
       "      <td>ANC</td>\n",
       "      <td>0025</td>\n",
       "      <td>...</td>\n",
       "      <td>0259</td>\n",
       "      <td>-21.0</td>\n",
       "      <td>0</td>\n",
       "      <td>0</td>\n",
       "      <td>NaN</td>\n",
       "      <td>NaN</td>\n",
       "      <td>NaN</td>\n",
       "      <td>NaN</td>\n",
       "      <td>NaN</td>\n",
       "      <td>NaN</td>\n",
       "    </tr>\n",
       "  </tbody>\n",
       "</table>\n",
       "<p>5 rows × 31 columns</p>\n",
       "</div>"
      ],
      "text/plain": [
       "   YEAR  MONTH  DAY  DAY_OF_WEEK AIRLINE  FLIGHT_NUMBER TAIL_NUMBER  \\\n",
       "0  2015      1    1            4      AS             98      N407AS   \n",
       "1  2015      1    1            4      AA           2336      N3KUAA   \n",
       "2  2015      1    1            4      US            840      N171US   \n",
       "3  2015      1    1            4      AA            258      N3HYAA   \n",
       "4  2015      1    1            4      AS            135      N527AS   \n",
       "\n",
       "  ORIGIN_AIRPORT DESTINATION_AIRPORT SCHEDULED_DEPARTURE      ...        \\\n",
       "0            ANC                 SEA                0005      ...         \n",
       "1            LAX                 PBI                0010      ...         \n",
       "2            SFO                 CLT                0020      ...         \n",
       "3            LAX                 MIA                0020      ...         \n",
       "4            SEA                 ANC                0025      ...         \n",
       "\n",
       "  ARRIVAL_TIME  ARRIVAL_DELAY  DIVERTED CANCELLED  CANCELLATION_REASON  \\\n",
       "0         0408          -22.0         0         0                  NaN   \n",
       "1         0741           -9.0         0         0                  NaN   \n",
       "2         0811            5.0         0         0                  NaN   \n",
       "3         0756           -9.0         0         0                  NaN   \n",
       "4         0259          -21.0         0         0                  NaN   \n",
       "\n",
       "   AIR_SYSTEM_DELAY  SECURITY_DELAY  AIRLINE_DELAY LATE_AIRCRAFT_DELAY  \\\n",
       "0               NaN             NaN            NaN                 NaN   \n",
       "1               NaN             NaN            NaN                 NaN   \n",
       "2               NaN             NaN            NaN                 NaN   \n",
       "3               NaN             NaN            NaN                 NaN   \n",
       "4               NaN             NaN            NaN                 NaN   \n",
       "\n",
       "   WEATHER_DELAY  \n",
       "0            NaN  \n",
       "1            NaN  \n",
       "2            NaN  \n",
       "3            NaN  \n",
       "4            NaN  \n",
       "\n",
       "[5 rows x 31 columns]"
      ]
     },
     "execution_count": 149,
     "metadata": {},
     "output_type": "execute_result"
    }
   ],
   "source": [
    "raw_df.head()"
   ]
  },
  {
   "cell_type": "markdown",
   "metadata": {},
   "source": [
    "### 1.1 Check for missing values\n",
    "\n",
    "Let's check and visualize the data for missing values."
   ]
  },
  {
   "cell_type": "code",
   "execution_count": 5,
   "metadata": {},
   "outputs": [
    {
     "data": {
      "text/plain": [
       "<matplotlib.axes._subplots.AxesSubplot at 0x117025ba8>"
      ]
     },
     "execution_count": 5,
     "metadata": {},
     "output_type": "execute_result"
    },
    {
     "data": {
      "image/png": "[encoded data removed]",
      "text/plain": [
       "<Figure size 1800x720 with 2 Axes>"
      ]
     },
     "metadata": {},
     "output_type": "display_data"
    }
   ],
   "source": [
    "msno.matrix(raw_df)"
   ]
  },
  {
   "cell_type": "code",
   "execution_count": 6,
   "metadata": {},
   "outputs": [
    {
     "name": "stdout",
     "output_type": "stream",
     "text": [
      "Missing data distribution\n",
      "\n",
      "YEAR                         0\n",
      "MONTH                        0\n",
      "DAY                          0\n",
      "DAY_OF_WEEK                  0\n",
      "AIRLINE                      0\n",
      "FLIGHT_NUMBER                0\n",
      "TAIL_NUMBER              14721\n",
      "ORIGIN_AIRPORT               0\n",
      "DESTINATION_AIRPORT          0\n",
      "SCHEDULED_DEPARTURE          0\n",
      "DEPARTURE_TIME           86153\n",
      "DEPARTURE_DELAY          86153\n",
      "TAXI_OUT                 89047\n",
      "WHEELS_OFF               89047\n",
      "SCHEDULED_TIME               6\n",
      "ELAPSED_TIME            105071\n",
      "AIR_TIME                105071\n",
      "DISTANCE                     0\n",
      "WHEELS_ON                92513\n",
      "TAXI_IN                  92513\n",
      "SCHEDULED_ARRIVAL            0\n",
      "ARRIVAL_TIME             92513\n",
      "ARRIVAL_DELAY           105071\n",
      "DIVERTED                     0\n",
      "CANCELLED                    0\n",
      "CANCELLATION_REASON    5729195\n",
      "AIR_SYSTEM_DELAY       4755640\n",
      "SECURITY_DELAY         4755640\n",
      "AIRLINE_DELAY          4755640\n",
      "LATE_AIRCRAFT_DELAY    4755640\n",
      "WEATHER_DELAY          4755640\n",
      "dtype: int64\n",
      "\n",
      "5819079 out of 5819079 rows with missing data, about 100.00 %\n"
     ]
    }
   ],
   "source": [
    "# check for Data with N/A\n",
    "checkRowsMissing(raw_df)"
   ]
  },
  {
   "cell_type": "markdown",
   "metadata": {},
   "source": [
    "At a first glance, there are missing data in every row.  After visual inspection, this is due to the fact that there are 4 categories of flights (on-time/early, delayed, cancelled, or diverted).  Depending on the flight type, certain columns will be blank.  For example for an on-time/early flight, the columns \"CANCELLATION_REASON,AIR_SYSTEM_DELAY,SECURITY_DELAY,AIRLINE_DELAY,LATE_AIRCRAFT_DELAY,WEATHER_DELAY\" will be blank as the flight was not delayed or cancelled.  Conversely if a flight is cancelled, the columns \"DEPARTURE_TIME,DEPARTURE_DELAY,TAXI_OUT,WHEELS_OFF,ELAPSED_TIME,AIR_TIME,WHEELS_ON,TAXI_IN,ARRIVAL_TIME,ARRIVAL_DELAY\" would be blank as a flight has not taken place."
   ]
  },
  {
   "cell_type": "markdown",
   "metadata": {},
   "source": [
    "### 1.2 Process 4 digit time"
   ]
  },
  {
   "cell_type": "markdown",
   "metadata": {},
   "source": [
    "The time columns such as SCHEDULED_DEPARTURE contain the time in 4 digits.  Let's split that into 2 columns contain the hour and time."
   ]
  },
  {
   "cell_type": "code",
   "execution_count": 150,
   "metadata": {},
   "outputs": [],
   "source": [
    "# use the extractDigits function to convert the data\n",
    "raw_df['SCHEDULED_DEPARTURE_hour'], raw_df['SCHEDULED_DEPARTURE_min'] = extractDigits(raw_df['SCHEDULED_DEPARTURE'])\n",
    "raw_df['DEPARTURE_TIME_hour'], raw_df['DEPARTURE_TIME_min'] = extractDigits(raw_df['DEPARTURE_TIME'])\n",
    "raw_df['WHEELS_OFF_hour'], raw_df['WHEELS_OFF_min'] = extractDigits(raw_df['WHEELS_OFF'])\n",
    "raw_df['WHEELS_ON_hour'], raw_df['WHEELS_ON_min'] = extractDigits(raw_df['WHEELS_ON'])\n",
    "raw_df['SCHEDULED_ARRIVAL_hour'], raw_df['SCHEDULED_ARRIVAL_min'] = extractDigits(raw_df['SCHEDULED_ARRIVAL'])\n",
    "raw_df['ARRIVAL_TIME_hour'], raw_df['ARRIVAL_TIME_min'] = extractDigits(raw_df['ARRIVAL_TIME'])"
   ]
  },
  {
   "cell_type": "code",
   "execution_count": 151,
   "metadata": {},
   "outputs": [
    {
     "data": {
      "text/html": [
       "<div>\n",
       "<style scoped>\n",
       "    .dataframe tbody tr th:only-of-type {\n",
       "        vertical-align: middle;\n",
       "    }\n",
       "\n",
       "    .dataframe tbody tr th {\n",
       "        vertical-align: top;\n",
       "    }\n",
       "\n",
       "    .dataframe thead th {\n",
       "        text-align: right;\n",
       "    }\n",
       "</style>\n",
       "<table border=\"1\" class=\"dataframe\">\n",
       "  <thead>\n",
       "    <tr style=\"text-align: right;\">\n",
       "      <th></th>\n",
       "      <th>YEAR</th>\n",
       "      <th>MONTH</th>\n",
       "      <th>DAY</th>\n",
       "      <th>DAY_OF_WEEK</th>\n",
       "      <th>AIRLINE</th>\n",
       "      <th>FLIGHT_NUMBER</th>\n",
       "      <th>TAIL_NUMBER</th>\n",
       "      <th>ORIGIN_AIRPORT</th>\n",
       "      <th>DESTINATION_AIRPORT</th>\n",
       "      <th>SCHEDULED_DEPARTURE</th>\n",
       "      <th>...</th>\n",
       "      <th>DEPARTURE_TIME_hour</th>\n",
       "      <th>DEPARTURE_TIME_min</th>\n",
       "      <th>WHEELS_OFF_hour</th>\n",
       "      <th>WHEELS_OFF_min</th>\n",
       "      <th>WHEELS_ON_hour</th>\n",
       "      <th>WHEELS_ON_min</th>\n",
       "      <th>SCHEDULED_ARRIVAL_hour</th>\n",
       "      <th>SCHEDULED_ARRIVAL_min</th>\n",
       "      <th>ARRIVAL_TIME_hour</th>\n",
       "      <th>ARRIVAL_TIME_min</th>\n",
       "    </tr>\n",
       "  </thead>\n",
       "  <tbody>\n",
       "    <tr>\n",
       "      <th>0</th>\n",
       "      <td>2015</td>\n",
       "      <td>1</td>\n",
       "      <td>1</td>\n",
       "      <td>4</td>\n",
       "      <td>AS</td>\n",
       "      <td>98</td>\n",
       "      <td>N407AS</td>\n",
       "      <td>ANC</td>\n",
       "      <td>SEA</td>\n",
       "      <td>0005</td>\n",
       "      <td>...</td>\n",
       "      <td>23.0</td>\n",
       "      <td>54.0</td>\n",
       "      <td>0.0</td>\n",
       "      <td>15.0</td>\n",
       "      <td>4.0</td>\n",
       "      <td>4.0</td>\n",
       "      <td>4.0</td>\n",
       "      <td>30.0</td>\n",
       "      <td>4.0</td>\n",
       "      <td>8.0</td>\n",
       "    </tr>\n",
       "    <tr>\n",
       "      <th>1</th>\n",
       "      <td>2015</td>\n",
       "      <td>1</td>\n",
       "      <td>1</td>\n",
       "      <td>4</td>\n",
       "      <td>AA</td>\n",
       "      <td>2336</td>\n",
       "      <td>N3KUAA</td>\n",
       "      <td>LAX</td>\n",
       "      <td>PBI</td>\n",
       "      <td>0010</td>\n",
       "      <td>...</td>\n",
       "      <td>0.0</td>\n",
       "      <td>2.0</td>\n",
       "      <td>0.0</td>\n",
       "      <td>14.0</td>\n",
       "      <td>7.0</td>\n",
       "      <td>37.0</td>\n",
       "      <td>7.0</td>\n",
       "      <td>50.0</td>\n",
       "      <td>7.0</td>\n",
       "      <td>41.0</td>\n",
       "    </tr>\n",
       "    <tr>\n",
       "      <th>2</th>\n",
       "      <td>2015</td>\n",
       "      <td>1</td>\n",
       "      <td>1</td>\n",
       "      <td>4</td>\n",
       "      <td>US</td>\n",
       "      <td>840</td>\n",
       "      <td>N171US</td>\n",
       "      <td>SFO</td>\n",
       "      <td>CLT</td>\n",
       "      <td>0020</td>\n",
       "      <td>...</td>\n",
       "      <td>0.0</td>\n",
       "      <td>18.0</td>\n",
       "      <td>0.0</td>\n",
       "      <td>34.0</td>\n",
       "      <td>8.0</td>\n",
       "      <td>0.0</td>\n",
       "      <td>8.0</td>\n",
       "      <td>6.0</td>\n",
       "      <td>8.0</td>\n",
       "      <td>11.0</td>\n",
       "    </tr>\n",
       "    <tr>\n",
       "      <th>3</th>\n",
       "      <td>2015</td>\n",
       "      <td>1</td>\n",
       "      <td>1</td>\n",
       "      <td>4</td>\n",
       "      <td>AA</td>\n",
       "      <td>258</td>\n",
       "      <td>N3HYAA</td>\n",
       "      <td>LAX</td>\n",
       "      <td>MIA</td>\n",
       "      <td>0020</td>\n",
       "      <td>...</td>\n",
       "      <td>0.0</td>\n",
       "      <td>15.0</td>\n",
       "      <td>0.0</td>\n",
       "      <td>30.0</td>\n",
       "      <td>7.0</td>\n",
       "      <td>48.0</td>\n",
       "      <td>8.0</td>\n",
       "      <td>5.0</td>\n",
       "      <td>7.0</td>\n",
       "      <td>56.0</td>\n",
       "    </tr>\n",
       "    <tr>\n",
       "      <th>4</th>\n",
       "      <td>2015</td>\n",
       "      <td>1</td>\n",
       "      <td>1</td>\n",
       "      <td>4</td>\n",
       "      <td>AS</td>\n",
       "      <td>135</td>\n",
       "      <td>N527AS</td>\n",
       "      <td>SEA</td>\n",
       "      <td>ANC</td>\n",
       "      <td>0025</td>\n",
       "      <td>...</td>\n",
       "      <td>0.0</td>\n",
       "      <td>24.0</td>\n",
       "      <td>0.0</td>\n",
       "      <td>35.0</td>\n",
       "      <td>2.0</td>\n",
       "      <td>54.0</td>\n",
       "      <td>3.0</td>\n",
       "      <td>20.0</td>\n",
       "      <td>2.0</td>\n",
       "      <td>59.0</td>\n",
       "    </tr>\n",
       "  </tbody>\n",
       "</table>\n",
       "<p>5 rows × 43 columns</p>\n",
       "</div>"
      ],
      "text/plain": [
       "   YEAR  MONTH  DAY  DAY_OF_WEEK AIRLINE  FLIGHT_NUMBER TAIL_NUMBER  \\\n",
       "0  2015      1    1            4      AS             98      N407AS   \n",
       "1  2015      1    1            4      AA           2336      N3KUAA   \n",
       "2  2015      1    1            4      US            840      N171US   \n",
       "3  2015      1    1            4      AA            258      N3HYAA   \n",
       "4  2015      1    1            4      AS            135      N527AS   \n",
       "\n",
       "  ORIGIN_AIRPORT DESTINATION_AIRPORT SCHEDULED_DEPARTURE        ...         \\\n",
       "0            ANC                 SEA                0005        ...          \n",
       "1            LAX                 PBI                0010        ...          \n",
       "2            SFO                 CLT                0020        ...          \n",
       "3            LAX                 MIA                0020        ...          \n",
       "4            SEA                 ANC                0025        ...          \n",
       "\n",
       "  DEPARTURE_TIME_hour  DEPARTURE_TIME_min  WHEELS_OFF_hour WHEELS_OFF_min  \\\n",
       "0                23.0                54.0              0.0           15.0   \n",
       "1                 0.0                 2.0              0.0           14.0   \n",
       "2                 0.0                18.0              0.0           34.0   \n",
       "3                 0.0                15.0              0.0           30.0   \n",
       "4                 0.0                24.0              0.0           35.0   \n",
       "\n",
       "   WHEELS_ON_hour  WHEELS_ON_min  SCHEDULED_ARRIVAL_hour  \\\n",
       "0             4.0            4.0                     4.0   \n",
       "1             7.0           37.0                     7.0   \n",
       "2             8.0            0.0                     8.0   \n",
       "3             7.0           48.0                     8.0   \n",
       "4             2.0           54.0                     3.0   \n",
       "\n",
       "   SCHEDULED_ARRIVAL_min ARRIVAL_TIME_hour  ARRIVAL_TIME_min  \n",
       "0                   30.0               4.0               8.0  \n",
       "1                   50.0               7.0              41.0  \n",
       "2                    6.0               8.0              11.0  \n",
       "3                    5.0               7.0              56.0  \n",
       "4                   20.0               2.0              59.0  \n",
       "\n",
       "[5 rows x 43 columns]"
      ]
     },
     "execution_count": 151,
     "metadata": {},
     "output_type": "execute_result"
    }
   ],
   "source": [
    "raw_df.head()"
   ]
  },
  {
   "cell_type": "markdown",
   "metadata": {},
   "source": [
    "### 1.2 Airport codes\n",
    "Visual inspection of the airport codes in the ORIGIN_AIRPORT and DESTINATION_AIRPORT revealed that some of the airport codes are the usual 3 letter IATA codes, e.g. JFK, while some are 5-digit FAA Identification codes, e.g. 12478 for JFK.\n",
    "\n",
    "After some web searching, I found two tables from the Bureau of Transportation Statistics with the information.\n",
    "https://www.transtats.bts.gov/Fields.asp\n",
    "\n",
    "- The first table 'L_AIRPORT_ID' contains the 5-digit airport ID along with the name of the airport\n",
    "- The second table 'AIRPORT' contains the 3 letter airport code along with the name of the airport\n",
    "\n",
    "We will load the tables in here and join the two together using the airport name as the matching ids."
   ]
  },
  {
   "cell_type": "code",
   "execution_count": 152,
   "metadata": {},
   "outputs": [
    {
     "data": {
      "text/plain": [
       "(6471, 2)"
      ]
     },
     "execution_count": 152,
     "metadata": {},
     "output_type": "execute_result"
    }
   ],
   "source": [
    "# read in the airport id table\n",
    "airport_id = pd.read_csv('L_AIRPORT_ID.csv')\n",
    "airport_id.shape"
   ]
  },
  {
   "cell_type": "code",
   "execution_count": 153,
   "metadata": {},
   "outputs": [
    {
     "data": {
      "text/html": [
       "<div>\n",
       "<style scoped>\n",
       "    .dataframe tbody tr th:only-of-type {\n",
       "        vertical-align: middle;\n",
       "    }\n",
       "\n",
       "    .dataframe tbody tr th {\n",
       "        vertical-align: top;\n",
       "    }\n",
       "\n",
       "    .dataframe thead th {\n",
       "        text-align: right;\n",
       "    }\n",
       "</style>\n",
       "<table border=\"1\" class=\"dataframe\">\n",
       "  <thead>\n",
       "    <tr style=\"text-align: right;\">\n",
       "      <th></th>\n",
       "      <th>Code</th>\n",
       "      <th>Description</th>\n",
       "    </tr>\n",
       "  </thead>\n",
       "  <tbody>\n",
       "    <tr>\n",
       "      <th>0</th>\n",
       "      <td>10001</td>\n",
       "      <td>Afognak Lake, AK: Afognak Lake Airport</td>\n",
       "    </tr>\n",
       "    <tr>\n",
       "      <th>1</th>\n",
       "      <td>10003</td>\n",
       "      <td>Granite Mountain, AK: Bear Creek Mining Strip</td>\n",
       "    </tr>\n",
       "    <tr>\n",
       "      <th>2</th>\n",
       "      <td>10004</td>\n",
       "      <td>Lik, AK: Lik Mining Camp</td>\n",
       "    </tr>\n",
       "    <tr>\n",
       "      <th>3</th>\n",
       "      <td>10005</td>\n",
       "      <td>Little Squaw, AK: Little Squaw Airport</td>\n",
       "    </tr>\n",
       "    <tr>\n",
       "      <th>4</th>\n",
       "      <td>10006</td>\n",
       "      <td>Kizhuyak, AK: Kizhuyak Bay</td>\n",
       "    </tr>\n",
       "  </tbody>\n",
       "</table>\n",
       "</div>"
      ],
      "text/plain": [
       "    Code                                    Description\n",
       "0  10001         Afognak Lake, AK: Afognak Lake Airport\n",
       "1  10003  Granite Mountain, AK: Bear Creek Mining Strip\n",
       "2  10004                       Lik, AK: Lik Mining Camp\n",
       "3  10005         Little Squaw, AK: Little Squaw Airport\n",
       "4  10006                     Kizhuyak, AK: Kizhuyak Bay"
      ]
     },
     "execution_count": 153,
     "metadata": {},
     "output_type": "execute_result"
    }
   ],
   "source": [
    "airport_id.head()"
   ]
  },
  {
   "cell_type": "code",
   "execution_count": 154,
   "metadata": {},
   "outputs": [
    {
     "data": {
      "text/plain": [
       "(6489, 2)"
      ]
     },
     "execution_count": 154,
     "metadata": {},
     "output_type": "execute_result"
    }
   ],
   "source": [
    "# read in the airports table\n",
    "airports = pd.read_csv('L_AIRPORT.csv')\n",
    "airports.shape"
   ]
  },
  {
   "cell_type": "code",
   "execution_count": 155,
   "metadata": {},
   "outputs": [
    {
     "data": {
      "text/html": [
       "<div>\n",
       "<style scoped>\n",
       "    .dataframe tbody tr th:only-of-type {\n",
       "        vertical-align: middle;\n",
       "    }\n",
       "\n",
       "    .dataframe tbody tr th {\n",
       "        vertical-align: top;\n",
       "    }\n",
       "\n",
       "    .dataframe thead th {\n",
       "        text-align: right;\n",
       "    }\n",
       "</style>\n",
       "<table border=\"1\" class=\"dataframe\">\n",
       "  <thead>\n",
       "    <tr style=\"text-align: right;\">\n",
       "      <th></th>\n",
       "      <th>Code</th>\n",
       "      <th>Description</th>\n",
       "    </tr>\n",
       "  </thead>\n",
       "  <tbody>\n",
       "    <tr>\n",
       "      <th>0</th>\n",
       "      <td>01A</td>\n",
       "      <td>Afognak Lake, AK: Afognak Lake Airport</td>\n",
       "    </tr>\n",
       "    <tr>\n",
       "      <th>1</th>\n",
       "      <td>03A</td>\n",
       "      <td>Granite Mountain, AK: Bear Creek Mining Strip</td>\n",
       "    </tr>\n",
       "    <tr>\n",
       "      <th>2</th>\n",
       "      <td>04A</td>\n",
       "      <td>Lik, AK: Lik Mining Camp</td>\n",
       "    </tr>\n",
       "    <tr>\n",
       "      <th>3</th>\n",
       "      <td>05A</td>\n",
       "      <td>Little Squaw, AK: Little Squaw Airport</td>\n",
       "    </tr>\n",
       "    <tr>\n",
       "      <th>4</th>\n",
       "      <td>06A</td>\n",
       "      <td>Kizhuyak, AK: Kizhuyak Bay</td>\n",
       "    </tr>\n",
       "  </tbody>\n",
       "</table>\n",
       "</div>"
      ],
      "text/plain": [
       "  Code                                    Description\n",
       "0  01A         Afognak Lake, AK: Afognak Lake Airport\n",
       "1  03A  Granite Mountain, AK: Bear Creek Mining Strip\n",
       "2  04A                       Lik, AK: Lik Mining Camp\n",
       "3  05A         Little Squaw, AK: Little Squaw Airport\n",
       "4  06A                     Kizhuyak, AK: Kizhuyak Bay"
      ]
     },
     "execution_count": 155,
     "metadata": {},
     "output_type": "execute_result"
    }
   ],
   "source": [
    "airports.head()"
   ]
  },
  {
   "cell_type": "code",
   "execution_count": 156,
   "metadata": {},
   "outputs": [
    {
     "data": {
      "text/plain": [
       "10001    01A\n",
       "10003    03A\n",
       "10004    04A\n",
       "10005    05A\n",
       "10006    06A\n",
       "dtype: object"
      ]
     },
     "execution_count": 156,
     "metadata": {},
     "output_type": "execute_result"
    }
   ],
   "source": [
    "airports_merged = airport_id.merge(airports,left_on='Description',right_on='Description',how='inner')\n",
    "# drop duplicates in the airport_id\n",
    "airports_merged = airports_merged.drop_duplicates('Code_x')\n",
    "airports_merged = pd.Series(airports_merged['Code_y'].values,index=airports_merged['Code_x'].values.astype(str))\n",
    "airports_merged.head()"
   ]
  },
  {
   "cell_type": "code",
   "execution_count": 157,
   "metadata": {},
   "outputs": [
    {
     "name": "stdout",
     "output_type": "stream",
     "text": [
      "0\n",
      "250000\n",
      "500000\n",
      "750000\n",
      "1000000\n",
      "1250000\n",
      "1500000\n",
      "1750000\n",
      "2000000\n",
      "2250000\n",
      "2500000\n",
      "2750000\n",
      "3000000\n",
      "3250000\n",
      "3500000\n",
      "3750000\n",
      "4000000\n",
      "4250000\n",
      "4500000\n",
      "4750000\n",
      "5000000\n",
      "5250000\n",
      "5500000\n",
      "5750000\n",
      "Done i = 5819078\n"
     ]
    }
   ],
   "source": [
    "converted_airports_origin = mergeAirports(raw_df['ORIGIN_AIRPORT'],airports_merged)"
   ]
  },
  {
   "cell_type": "code",
   "execution_count": 158,
   "metadata": {},
   "outputs": [
    {
     "name": "stdout",
     "output_type": "stream",
     "text": [
      "0\n",
      "250000\n",
      "500000\n",
      "750000\n",
      "1000000\n",
      "1250000\n",
      "1500000\n",
      "1750000\n",
      "2000000\n",
      "2250000\n",
      "2500000\n",
      "2750000\n",
      "3000000\n",
      "3250000\n",
      "3500000\n",
      "3750000\n",
      "4000000\n",
      "4250000\n",
      "4500000\n",
      "4750000\n",
      "5000000\n",
      "5250000\n",
      "5500000\n",
      "5750000\n",
      "Done i = 5819078\n"
     ]
    }
   ],
   "source": [
    "converted_airports_destination = mergeAirports(raw_df['DESTINATION_AIRPORT'],airports_merged)"
   ]
  },
  {
   "cell_type": "code",
   "execution_count": 159,
   "metadata": {},
   "outputs": [],
   "source": [
    "# add the converted airports to the raw_df dataframe\n",
    "raw_df['ORIGIN_AIRPORT_fixed'] = converted_airports_origin\n",
    "raw_df['DESTINATION_AIRPORT_fixed'] = converted_airports_destination"
   ]
  },
  {
   "cell_type": "code",
   "execution_count": 160,
   "metadata": {},
   "outputs": [],
   "source": [
    "# drop the original airports to save space\n",
    "raw_df = raw_df.drop(['ORIGIN_AIRPORT','DESTINATION_AIRPORT'],axis=1)"
   ]
  },
  {
   "cell_type": "code",
   "execution_count": 161,
   "metadata": {},
   "outputs": [
    {
     "data": {
      "text/html": [
       "<div>\n",
       "<style scoped>\n",
       "    .dataframe tbody tr th:only-of-type {\n",
       "        vertical-align: middle;\n",
       "    }\n",
       "\n",
       "    .dataframe tbody tr th {\n",
       "        vertical-align: top;\n",
       "    }\n",
       "\n",
       "    .dataframe thead th {\n",
       "        text-align: right;\n",
       "    }\n",
       "</style>\n",
       "<table border=\"1\" class=\"dataframe\">\n",
       "  <thead>\n",
       "    <tr style=\"text-align: right;\">\n",
       "      <th></th>\n",
       "      <th>YEAR</th>\n",
       "      <th>MONTH</th>\n",
       "      <th>DAY</th>\n",
       "      <th>DAY_OF_WEEK</th>\n",
       "      <th>AIRLINE</th>\n",
       "      <th>FLIGHT_NUMBER</th>\n",
       "      <th>TAIL_NUMBER</th>\n",
       "      <th>SCHEDULED_DEPARTURE</th>\n",
       "      <th>DEPARTURE_TIME</th>\n",
       "      <th>DEPARTURE_DELAY</th>\n",
       "      <th>...</th>\n",
       "      <th>WHEELS_OFF_hour</th>\n",
       "      <th>WHEELS_OFF_min</th>\n",
       "      <th>WHEELS_ON_hour</th>\n",
       "      <th>WHEELS_ON_min</th>\n",
       "      <th>SCHEDULED_ARRIVAL_hour</th>\n",
       "      <th>SCHEDULED_ARRIVAL_min</th>\n",
       "      <th>ARRIVAL_TIME_hour</th>\n",
       "      <th>ARRIVAL_TIME_min</th>\n",
       "      <th>ORIGIN_AIRPORT_fixed</th>\n",
       "      <th>DESTINATION_AIRPORT_fixed</th>\n",
       "    </tr>\n",
       "  </thead>\n",
       "  <tbody>\n",
       "    <tr>\n",
       "      <th>0</th>\n",
       "      <td>2015</td>\n",
       "      <td>1</td>\n",
       "      <td>1</td>\n",
       "      <td>4</td>\n",
       "      <td>AS</td>\n",
       "      <td>98</td>\n",
       "      <td>N407AS</td>\n",
       "      <td>0005</td>\n",
       "      <td>2354</td>\n",
       "      <td>-11.0</td>\n",
       "      <td>...</td>\n",
       "      <td>0.0</td>\n",
       "      <td>15.0</td>\n",
       "      <td>4.0</td>\n",
       "      <td>4.0</td>\n",
       "      <td>4.0</td>\n",
       "      <td>30.0</td>\n",
       "      <td>4.0</td>\n",
       "      <td>8.0</td>\n",
       "      <td>ANC</td>\n",
       "      <td>SEA</td>\n",
       "    </tr>\n",
       "    <tr>\n",
       "      <th>1</th>\n",
       "      <td>2015</td>\n",
       "      <td>1</td>\n",
       "      <td>1</td>\n",
       "      <td>4</td>\n",
       "      <td>AA</td>\n",
       "      <td>2336</td>\n",
       "      <td>N3KUAA</td>\n",
       "      <td>0010</td>\n",
       "      <td>0002</td>\n",
       "      <td>-8.0</td>\n",
       "      <td>...</td>\n",
       "      <td>0.0</td>\n",
       "      <td>14.0</td>\n",
       "      <td>7.0</td>\n",
       "      <td>37.0</td>\n",
       "      <td>7.0</td>\n",
       "      <td>50.0</td>\n",
       "      <td>7.0</td>\n",
       "      <td>41.0</td>\n",
       "      <td>LAX</td>\n",
       "      <td>PBI</td>\n",
       "    </tr>\n",
       "    <tr>\n",
       "      <th>2</th>\n",
       "      <td>2015</td>\n",
       "      <td>1</td>\n",
       "      <td>1</td>\n",
       "      <td>4</td>\n",
       "      <td>US</td>\n",
       "      <td>840</td>\n",
       "      <td>N171US</td>\n",
       "      <td>0020</td>\n",
       "      <td>0018</td>\n",
       "      <td>-2.0</td>\n",
       "      <td>...</td>\n",
       "      <td>0.0</td>\n",
       "      <td>34.0</td>\n",
       "      <td>8.0</td>\n",
       "      <td>0.0</td>\n",
       "      <td>8.0</td>\n",
       "      <td>6.0</td>\n",
       "      <td>8.0</td>\n",
       "      <td>11.0</td>\n",
       "      <td>SFO</td>\n",
       "      <td>CLT</td>\n",
       "    </tr>\n",
       "    <tr>\n",
       "      <th>3</th>\n",
       "      <td>2015</td>\n",
       "      <td>1</td>\n",
       "      <td>1</td>\n",
       "      <td>4</td>\n",
       "      <td>AA</td>\n",
       "      <td>258</td>\n",
       "      <td>N3HYAA</td>\n",
       "      <td>0020</td>\n",
       "      <td>0015</td>\n",
       "      <td>-5.0</td>\n",
       "      <td>...</td>\n",
       "      <td>0.0</td>\n",
       "      <td>30.0</td>\n",
       "      <td>7.0</td>\n",
       "      <td>48.0</td>\n",
       "      <td>8.0</td>\n",
       "      <td>5.0</td>\n",
       "      <td>7.0</td>\n",
       "      <td>56.0</td>\n",
       "      <td>LAX</td>\n",
       "      <td>MIA</td>\n",
       "    </tr>\n",
       "    <tr>\n",
       "      <th>4</th>\n",
       "      <td>2015</td>\n",
       "      <td>1</td>\n",
       "      <td>1</td>\n",
       "      <td>4</td>\n",
       "      <td>AS</td>\n",
       "      <td>135</td>\n",
       "      <td>N527AS</td>\n",
       "      <td>0025</td>\n",
       "      <td>0024</td>\n",
       "      <td>-1.0</td>\n",
       "      <td>...</td>\n",
       "      <td>0.0</td>\n",
       "      <td>35.0</td>\n",
       "      <td>2.0</td>\n",
       "      <td>54.0</td>\n",
       "      <td>3.0</td>\n",
       "      <td>20.0</td>\n",
       "      <td>2.0</td>\n",
       "      <td>59.0</td>\n",
       "      <td>SEA</td>\n",
       "      <td>ANC</td>\n",
       "    </tr>\n",
       "  </tbody>\n",
       "</table>\n",
       "<p>5 rows × 43 columns</p>\n",
       "</div>"
      ],
      "text/plain": [
       "   YEAR  MONTH  DAY  DAY_OF_WEEK AIRLINE  FLIGHT_NUMBER TAIL_NUMBER  \\\n",
       "0  2015      1    1            4      AS             98      N407AS   \n",
       "1  2015      1    1            4      AA           2336      N3KUAA   \n",
       "2  2015      1    1            4      US            840      N171US   \n",
       "3  2015      1    1            4      AA            258      N3HYAA   \n",
       "4  2015      1    1            4      AS            135      N527AS   \n",
       "\n",
       "  SCHEDULED_DEPARTURE DEPARTURE_TIME  DEPARTURE_DELAY  \\\n",
       "0                0005           2354            -11.0   \n",
       "1                0010           0002             -8.0   \n",
       "2                0020           0018             -2.0   \n",
       "3                0020           0015             -5.0   \n",
       "4                0025           0024             -1.0   \n",
       "\n",
       "             ...             WHEELS_OFF_hour WHEELS_OFF_min  WHEELS_ON_hour  \\\n",
       "0            ...                         0.0           15.0             4.0   \n",
       "1            ...                         0.0           14.0             7.0   \n",
       "2            ...                         0.0           34.0             8.0   \n",
       "3            ...                         0.0           30.0             7.0   \n",
       "4            ...                         0.0           35.0             2.0   \n",
       "\n",
       "   WHEELS_ON_min  SCHEDULED_ARRIVAL_hour  SCHEDULED_ARRIVAL_min  \\\n",
       "0            4.0                     4.0                   30.0   \n",
       "1           37.0                     7.0                   50.0   \n",
       "2            0.0                     8.0                    6.0   \n",
       "3           48.0                     8.0                    5.0   \n",
       "4           54.0                     3.0                   20.0   \n",
       "\n",
       "  ARRIVAL_TIME_hour  ARRIVAL_TIME_min ORIGIN_AIRPORT_fixed  \\\n",
       "0               4.0               8.0                  ANC   \n",
       "1               7.0              41.0                  LAX   \n",
       "2               8.0              11.0                  SFO   \n",
       "3               7.0              56.0                  LAX   \n",
       "4               2.0              59.0                  SEA   \n",
       "\n",
       "  DESTINATION_AIRPORT_fixed  \n",
       "0                       SEA  \n",
       "1                       PBI  \n",
       "2                       CLT  \n",
       "3                       MIA  \n",
       "4                       ANC  \n",
       "\n",
       "[5 rows x 43 columns]"
      ]
     },
     "execution_count": 161,
     "metadata": {},
     "output_type": "execute_result"
    }
   ],
   "source": [
    "raw_df.head()"
   ]
  },
  {
   "cell_type": "code",
   "execution_count": 162,
   "metadata": {},
   "outputs": [],
   "source": [
    "# save the conversions to file, to save computation time\n",
    "raw_df[['ORIGIN_AIRPORT_fixed','DESTINATION_AIRPORT_fixed']].to_csv('converted_airports.csv',index=False)"
   ]
  },
  {
   "cell_type": "code",
   "execution_count": 163,
   "metadata": {},
   "outputs": [],
   "source": [
    "# go ahead and build a encoder for later use\n",
    "_ , airport_encoder = encoder(converted_airports_origin)"
   ]
  },
  {
   "cell_type": "code",
   "execution_count": 164,
   "metadata": {},
   "outputs": [
    {
     "data": {
      "text/plain": [
       "324"
      ]
     },
     "execution_count": 164,
     "metadata": {},
     "output_type": "execute_result"
    }
   ],
   "source": [
    "len(airport_encoder.classes_)"
   ]
  },
  {
   "cell_type": "code",
   "execution_count": 4,
   "metadata": {},
   "outputs": [
    {
     "data": {
      "text/html": [
       "<div>\n",
       "<style scoped>\n",
       "    .dataframe tbody tr th:only-of-type {\n",
       "        vertical-align: middle;\n",
       "    }\n",
       "\n",
       "    .dataframe tbody tr th {\n",
       "        vertical-align: top;\n",
       "    }\n",
       "\n",
       "    .dataframe thead th {\n",
       "        text-align: right;\n",
       "    }\n",
       "</style>\n",
       "<table border=\"1\" class=\"dataframe\">\n",
       "  <thead>\n",
       "    <tr style=\"text-align: right;\">\n",
       "      <th></th>\n",
       "      <th>YEAR</th>\n",
       "      <th>MONTH</th>\n",
       "      <th>DAY</th>\n",
       "      <th>DAY_OF_WEEK</th>\n",
       "      <th>AIRLINE</th>\n",
       "      <th>FLIGHT_NUMBER</th>\n",
       "      <th>TAIL_NUMBER</th>\n",
       "      <th>SCHEDULED_DEPARTURE</th>\n",
       "      <th>DEPARTURE_TIME</th>\n",
       "      <th>DEPARTURE_DELAY</th>\n",
       "      <th>...</th>\n",
       "      <th>WHEELS_OFF_hour</th>\n",
       "      <th>WHEELS_OFF_min</th>\n",
       "      <th>WHEELS_ON_hour</th>\n",
       "      <th>WHEELS_ON_min</th>\n",
       "      <th>SCHEDULED_ARRIVAL_hour</th>\n",
       "      <th>SCHEDULED_ARRIVAL_min</th>\n",
       "      <th>ARRIVAL_TIME_hour</th>\n",
       "      <th>ARRIVAL_TIME_min</th>\n",
       "      <th>ORIGIN_AIRPORT_fixed</th>\n",
       "      <th>DESTINATION_AIRPORT_fixed</th>\n",
       "    </tr>\n",
       "  </thead>\n",
       "  <tbody>\n",
       "    <tr>\n",
       "      <th>0</th>\n",
       "      <td>2015</td>\n",
       "      <td>1</td>\n",
       "      <td>1</td>\n",
       "      <td>4</td>\n",
       "      <td>AS</td>\n",
       "      <td>98</td>\n",
       "      <td>N407AS</td>\n",
       "      <td>5</td>\n",
       "      <td>2354.0</td>\n",
       "      <td>-11.0</td>\n",
       "      <td>...</td>\n",
       "      <td>0.0</td>\n",
       "      <td>15.0</td>\n",
       "      <td>4.0</td>\n",
       "      <td>4.0</td>\n",
       "      <td>4.0</td>\n",
       "      <td>30.0</td>\n",
       "      <td>4.0</td>\n",
       "      <td>8.0</td>\n",
       "      <td>ANC</td>\n",
       "      <td>SEA</td>\n",
       "    </tr>\n",
       "    <tr>\n",
       "      <th>1</th>\n",
       "      <td>2015</td>\n",
       "      <td>1</td>\n",
       "      <td>1</td>\n",
       "      <td>4</td>\n",
       "      <td>AA</td>\n",
       "      <td>2336</td>\n",
       "      <td>N3KUAA</td>\n",
       "      <td>10</td>\n",
       "      <td>2.0</td>\n",
       "      <td>-8.0</td>\n",
       "      <td>...</td>\n",
       "      <td>0.0</td>\n",
       "      <td>14.0</td>\n",
       "      <td>7.0</td>\n",
       "      <td>37.0</td>\n",
       "      <td>7.0</td>\n",
       "      <td>50.0</td>\n",
       "      <td>7.0</td>\n",
       "      <td>41.0</td>\n",
       "      <td>LAX</td>\n",
       "      <td>PBI</td>\n",
       "    </tr>\n",
       "    <tr>\n",
       "      <th>2</th>\n",
       "      <td>2015</td>\n",
       "      <td>1</td>\n",
       "      <td>1</td>\n",
       "      <td>4</td>\n",
       "      <td>US</td>\n",
       "      <td>840</td>\n",
       "      <td>N171US</td>\n",
       "      <td>20</td>\n",
       "      <td>18.0</td>\n",
       "      <td>-2.0</td>\n",
       "      <td>...</td>\n",
       "      <td>0.0</td>\n",
       "      <td>34.0</td>\n",
       "      <td>8.0</td>\n",
       "      <td>0.0</td>\n",
       "      <td>8.0</td>\n",
       "      <td>6.0</td>\n",
       "      <td>8.0</td>\n",
       "      <td>11.0</td>\n",
       "      <td>SFO</td>\n",
       "      <td>CLT</td>\n",
       "    </tr>\n",
       "    <tr>\n",
       "      <th>3</th>\n",
       "      <td>2015</td>\n",
       "      <td>1</td>\n",
       "      <td>1</td>\n",
       "      <td>4</td>\n",
       "      <td>AA</td>\n",
       "      <td>258</td>\n",
       "      <td>N3HYAA</td>\n",
       "      <td>20</td>\n",
       "      <td>15.0</td>\n",
       "      <td>-5.0</td>\n",
       "      <td>...</td>\n",
       "      <td>0.0</td>\n",
       "      <td>30.0</td>\n",
       "      <td>7.0</td>\n",
       "      <td>48.0</td>\n",
       "      <td>8.0</td>\n",
       "      <td>5.0</td>\n",
       "      <td>7.0</td>\n",
       "      <td>56.0</td>\n",
       "      <td>LAX</td>\n",
       "      <td>MIA</td>\n",
       "    </tr>\n",
       "    <tr>\n",
       "      <th>4</th>\n",
       "      <td>2015</td>\n",
       "      <td>1</td>\n",
       "      <td>1</td>\n",
       "      <td>4</td>\n",
       "      <td>AS</td>\n",
       "      <td>135</td>\n",
       "      <td>N527AS</td>\n",
       "      <td>25</td>\n",
       "      <td>24.0</td>\n",
       "      <td>-1.0</td>\n",
       "      <td>...</td>\n",
       "      <td>0.0</td>\n",
       "      <td>35.0</td>\n",
       "      <td>2.0</td>\n",
       "      <td>54.0</td>\n",
       "      <td>3.0</td>\n",
       "      <td>20.0</td>\n",
       "      <td>2.0</td>\n",
       "      <td>59.0</td>\n",
       "      <td>SEA</td>\n",
       "      <td>ANC</td>\n",
       "    </tr>\n",
       "  </tbody>\n",
       "</table>\n",
       "<p>5 rows × 43 columns</p>\n",
       "</div>"
      ],
      "text/plain": [
       "   YEAR  MONTH  DAY  DAY_OF_WEEK AIRLINE  FLIGHT_NUMBER TAIL_NUMBER  \\\n",
       "0  2015      1    1            4      AS             98      N407AS   \n",
       "1  2015      1    1            4      AA           2336      N3KUAA   \n",
       "2  2015      1    1            4      US            840      N171US   \n",
       "3  2015      1    1            4      AA            258      N3HYAA   \n",
       "4  2015      1    1            4      AS            135      N527AS   \n",
       "\n",
       "   SCHEDULED_DEPARTURE  DEPARTURE_TIME  DEPARTURE_DELAY  \\\n",
       "0                    5          2354.0            -11.0   \n",
       "1                   10             2.0             -8.0   \n",
       "2                   20            18.0             -2.0   \n",
       "3                   20            15.0             -5.0   \n",
       "4                   25            24.0             -1.0   \n",
       "\n",
       "             ...              WHEELS_OFF_hour  WHEELS_OFF_min  WHEELS_ON_hour  \\\n",
       "0            ...                          0.0            15.0             4.0   \n",
       "1            ...                          0.0            14.0             7.0   \n",
       "2            ...                          0.0            34.0             8.0   \n",
       "3            ...                          0.0            30.0             7.0   \n",
       "4            ...                          0.0            35.0             2.0   \n",
       "\n",
       "   WHEELS_ON_min  SCHEDULED_ARRIVAL_hour  SCHEDULED_ARRIVAL_min  \\\n",
       "0            4.0                     4.0                   30.0   \n",
       "1           37.0                     7.0                   50.0   \n",
       "2            0.0                     8.0                    6.0   \n",
       "3           48.0                     8.0                    5.0   \n",
       "4           54.0                     3.0                   20.0   \n",
       "\n",
       "   ARRIVAL_TIME_hour  ARRIVAL_TIME_min  ORIGIN_AIRPORT_fixed  \\\n",
       "0                4.0               8.0                   ANC   \n",
       "1                7.0              41.0                   LAX   \n",
       "2                8.0              11.0                   SFO   \n",
       "3                7.0              56.0                   LAX   \n",
       "4                2.0              59.0                   SEA   \n",
       "\n",
       "   DESTINATION_AIRPORT_fixed  \n",
       "0                        SEA  \n",
       "1                        PBI  \n",
       "2                        CLT  \n",
       "3                        MIA  \n",
       "4                        ANC  \n",
       "\n",
       "[5 rows x 43 columns]"
      ]
     },
     "execution_count": 4,
     "metadata": {},
     "output_type": "execute_result"
    }
   ],
   "source": [
    "# write to disk for easier retrieval later\n",
    "#raw_df.to_csv('flights_preprocessed.csv',index=False)\n",
    "raw_df = pd.read_csv('flights_preprocessed.csv')\n",
    "raw_df.head()"
   ]
  },
  {
   "cell_type": "code",
   "execution_count": 13,
   "metadata": {},
   "outputs": [],
   "source": [
    "_ , airport_encoder = encoder(raw_df['ORIGIN_AIRPORT_fixed'])"
   ]
  },
  {
   "cell_type": "markdown",
   "metadata": {},
   "source": [
    "### 1.3 Feature Engineering"
   ]
  },
  {
   "cell_type": "markdown",
   "metadata": {},
   "source": [
    "It will be helpful to define a few additional features:\n",
    "\n",
    "It is useful to have the dates of the year.  However, the following features may be useful with respect to flight delays:\n",
    "- proximity to federal holidays such as\n",
    "    - New Year's Day (2015-01-01)\n",
    "    - MLK Holiday (2015-01-19)\n",
    "    - President's Day (2015-02-16)\n",
    "    - Memorial Day (2015-05-25)\n",
    "    - Independence Day (2015-07-04)\n",
    "    - Labor Day (2015-09-07)\n",
    "    - Columbus Day (2015-10-12)\n",
    "    - Veteran's Day (2015-11-11)\n",
    "    - Thanksgiving (2015-11-26)\n",
    "    - Christmas (2015-12-25)"
   ]
  },
  {
   "cell_type": "code",
   "execution_count": 5,
   "metadata": {},
   "outputs": [
    {
     "data": {
      "text/html": [
       "<div>\n",
       "<style scoped>\n",
       "    .dataframe tbody tr th:only-of-type {\n",
       "        vertical-align: middle;\n",
       "    }\n",
       "\n",
       "    .dataframe tbody tr th {\n",
       "        vertical-align: top;\n",
       "    }\n",
       "\n",
       "    .dataframe thead th {\n",
       "        text-align: right;\n",
       "    }\n",
       "</style>\n",
       "<table border=\"1\" class=\"dataframe\">\n",
       "  <thead>\n",
       "    <tr style=\"text-align: right;\">\n",
       "      <th></th>\n",
       "      <th>Name</th>\n",
       "      <th>Year</th>\n",
       "      <th>Month</th>\n",
       "      <th>Day</th>\n",
       "      <th>DATE</th>\n",
       "    </tr>\n",
       "  </thead>\n",
       "  <tbody>\n",
       "    <tr>\n",
       "      <th>0</th>\n",
       "      <td>New Year's Day</td>\n",
       "      <td>2015</td>\n",
       "      <td>1</td>\n",
       "      <td>1</td>\n",
       "      <td>2015-01-01</td>\n",
       "    </tr>\n",
       "    <tr>\n",
       "      <th>1</th>\n",
       "      <td>MLK Holiday</td>\n",
       "      <td>2015</td>\n",
       "      <td>1</td>\n",
       "      <td>19</td>\n",
       "      <td>2015-01-19</td>\n",
       "    </tr>\n",
       "    <tr>\n",
       "      <th>2</th>\n",
       "      <td>President's Day</td>\n",
       "      <td>2015</td>\n",
       "      <td>2</td>\n",
       "      <td>16</td>\n",
       "      <td>2015-02-16</td>\n",
       "    </tr>\n",
       "    <tr>\n",
       "      <th>3</th>\n",
       "      <td>Memorial Day</td>\n",
       "      <td>2015</td>\n",
       "      <td>5</td>\n",
       "      <td>25</td>\n",
       "      <td>2015-05-25</td>\n",
       "    </tr>\n",
       "    <tr>\n",
       "      <th>4</th>\n",
       "      <td>Independence Day</td>\n",
       "      <td>2015</td>\n",
       "      <td>7</td>\n",
       "      <td>4</td>\n",
       "      <td>2015-07-04</td>\n",
       "    </tr>\n",
       "  </tbody>\n",
       "</table>\n",
       "</div>"
      ],
      "text/plain": [
       "               Name  Year  Month  Day       DATE\n",
       "0    New Year's Day  2015      1    1 2015-01-01\n",
       "1       MLK Holiday  2015      1   19 2015-01-19\n",
       "2   President's Day  2015      2   16 2015-02-16\n",
       "3      Memorial Day  2015      5   25 2015-05-25\n",
       "4  Independence Day  2015      7    4 2015-07-04"
      ]
     },
     "execution_count": 5,
     "metadata": {},
     "output_type": "execute_result"
    }
   ],
   "source": [
    "# pre-saved the dates in a csv file, create a new column for the DATE datetime object\n",
    "holidays_df = pd.read_csv('federal_holidays.csv')\n",
    "holidays_df['DATE'] = pd.to_datetime(holidays_df[['Year','Month','Day']])\n",
    "holidays_df.head()"
   ]
  },
  {
   "cell_type": "code",
   "execution_count": 6,
   "metadata": {},
   "outputs": [],
   "source": [
    "# generate new datetime object column\n",
    "raw_df['DATE'] = pd.to_datetime(raw_df[['YEAR','MONTH','DAY']])"
   ]
  },
  {
   "cell_type": "markdown",
   "metadata": {},
   "source": [
    "Create a few new columns\n",
    "- Holiday, on the holiday\n",
    "- Holiday_1, within +/- 1 day of the holiday\n",
    "- Holiday_2, within +/- 2 day of the holiday\n",
    "- Holiday_3, within +/- 3 day of the holiday\n",
    "- Holiday_5, within +/- 5 day of the holiday"
   ]
  },
  {
   "cell_type": "code",
   "execution_count": 7,
   "metadata": {},
   "outputs": [],
   "source": [
    "holiday_Array = holidayMarker(holidays_df,raw_df,[0,1,2,3,5])"
   ]
  },
  {
   "cell_type": "code",
   "execution_count": 8,
   "metadata": {},
   "outputs": [],
   "source": [
    "raw_df['Holiday'] = holiday_Array[:,0]\n",
    "raw_df['Holiday_1'] = holiday_Array[:,1]\n",
    "raw_df['Holiday_2'] = holiday_Array[:,2]\n",
    "raw_df['Holiday_3'] = holiday_Array[:,3]\n",
    "raw_df['Holiday_5'] = holiday_Array[:,4]"
   ]
  },
  {
   "cell_type": "code",
   "execution_count": 9,
   "metadata": {},
   "outputs": [
    {
     "data": {
      "text/html": [
       "<div>\n",
       "<style scoped>\n",
       "    .dataframe tbody tr th:only-of-type {\n",
       "        vertical-align: middle;\n",
       "    }\n",
       "\n",
       "    .dataframe tbody tr th {\n",
       "        vertical-align: top;\n",
       "    }\n",
       "\n",
       "    .dataframe thead th {\n",
       "        text-align: right;\n",
       "    }\n",
       "</style>\n",
       "<table border=\"1\" class=\"dataframe\">\n",
       "  <thead>\n",
       "    <tr style=\"text-align: right;\">\n",
       "      <th></th>\n",
       "      <th>YEAR</th>\n",
       "      <th>MONTH</th>\n",
       "      <th>DAY</th>\n",
       "      <th>DAY_OF_WEEK</th>\n",
       "      <th>AIRLINE</th>\n",
       "      <th>FLIGHT_NUMBER</th>\n",
       "      <th>TAIL_NUMBER</th>\n",
       "      <th>SCHEDULED_DEPARTURE</th>\n",
       "      <th>DEPARTURE_TIME</th>\n",
       "      <th>DEPARTURE_DELAY</th>\n",
       "      <th>...</th>\n",
       "      <th>ARRIVAL_TIME_hour</th>\n",
       "      <th>ARRIVAL_TIME_min</th>\n",
       "      <th>ORIGIN_AIRPORT_fixed</th>\n",
       "      <th>DESTINATION_AIRPORT_fixed</th>\n",
       "      <th>DATE</th>\n",
       "      <th>Holiday</th>\n",
       "      <th>Holiday_1</th>\n",
       "      <th>Holiday_2</th>\n",
       "      <th>Holiday_3</th>\n",
       "      <th>Holiday_5</th>\n",
       "    </tr>\n",
       "  </thead>\n",
       "  <tbody>\n",
       "    <tr>\n",
       "      <th>0</th>\n",
       "      <td>2015</td>\n",
       "      <td>1</td>\n",
       "      <td>1</td>\n",
       "      <td>4</td>\n",
       "      <td>AS</td>\n",
       "      <td>98</td>\n",
       "      <td>N407AS</td>\n",
       "      <td>5</td>\n",
       "      <td>2354.0</td>\n",
       "      <td>-11.0</td>\n",
       "      <td>...</td>\n",
       "      <td>4.0</td>\n",
       "      <td>8.0</td>\n",
       "      <td>ANC</td>\n",
       "      <td>SEA</td>\n",
       "      <td>2015-01-01</td>\n",
       "      <td>1.0</td>\n",
       "      <td>0.0</td>\n",
       "      <td>0.0</td>\n",
       "      <td>0.0</td>\n",
       "      <td>0.0</td>\n",
       "    </tr>\n",
       "    <tr>\n",
       "      <th>1</th>\n",
       "      <td>2015</td>\n",
       "      <td>1</td>\n",
       "      <td>1</td>\n",
       "      <td>4</td>\n",
       "      <td>AA</td>\n",
       "      <td>2336</td>\n",
       "      <td>N3KUAA</td>\n",
       "      <td>10</td>\n",
       "      <td>2.0</td>\n",
       "      <td>-8.0</td>\n",
       "      <td>...</td>\n",
       "      <td>7.0</td>\n",
       "      <td>41.0</td>\n",
       "      <td>LAX</td>\n",
       "      <td>PBI</td>\n",
       "      <td>2015-01-01</td>\n",
       "      <td>1.0</td>\n",
       "      <td>0.0</td>\n",
       "      <td>0.0</td>\n",
       "      <td>0.0</td>\n",
       "      <td>0.0</td>\n",
       "    </tr>\n",
       "    <tr>\n",
       "      <th>2</th>\n",
       "      <td>2015</td>\n",
       "      <td>1</td>\n",
       "      <td>1</td>\n",
       "      <td>4</td>\n",
       "      <td>US</td>\n",
       "      <td>840</td>\n",
       "      <td>N171US</td>\n",
       "      <td>20</td>\n",
       "      <td>18.0</td>\n",
       "      <td>-2.0</td>\n",
       "      <td>...</td>\n",
       "      <td>8.0</td>\n",
       "      <td>11.0</td>\n",
       "      <td>SFO</td>\n",
       "      <td>CLT</td>\n",
       "      <td>2015-01-01</td>\n",
       "      <td>1.0</td>\n",
       "      <td>0.0</td>\n",
       "      <td>0.0</td>\n",
       "      <td>0.0</td>\n",
       "      <td>0.0</td>\n",
       "    </tr>\n",
       "    <tr>\n",
       "      <th>3</th>\n",
       "      <td>2015</td>\n",
       "      <td>1</td>\n",
       "      <td>1</td>\n",
       "      <td>4</td>\n",
       "      <td>AA</td>\n",
       "      <td>258</td>\n",
       "      <td>N3HYAA</td>\n",
       "      <td>20</td>\n",
       "      <td>15.0</td>\n",
       "      <td>-5.0</td>\n",
       "      <td>...</td>\n",
       "      <td>7.0</td>\n",
       "      <td>56.0</td>\n",
       "      <td>LAX</td>\n",
       "      <td>MIA</td>\n",
       "      <td>2015-01-01</td>\n",
       "      <td>1.0</td>\n",
       "      <td>0.0</td>\n",
       "      <td>0.0</td>\n",
       "      <td>0.0</td>\n",
       "      <td>0.0</td>\n",
       "    </tr>\n",
       "    <tr>\n",
       "      <th>4</th>\n",
       "      <td>2015</td>\n",
       "      <td>1</td>\n",
       "      <td>1</td>\n",
       "      <td>4</td>\n",
       "      <td>AS</td>\n",
       "      <td>135</td>\n",
       "      <td>N527AS</td>\n",
       "      <td>25</td>\n",
       "      <td>24.0</td>\n",
       "      <td>-1.0</td>\n",
       "      <td>...</td>\n",
       "      <td>2.0</td>\n",
       "      <td>59.0</td>\n",
       "      <td>SEA</td>\n",
       "      <td>ANC</td>\n",
       "      <td>2015-01-01</td>\n",
       "      <td>1.0</td>\n",
       "      <td>0.0</td>\n",
       "      <td>0.0</td>\n",
       "      <td>0.0</td>\n",
       "      <td>0.0</td>\n",
       "    </tr>\n",
       "  </tbody>\n",
       "</table>\n",
       "<p>5 rows × 49 columns</p>\n",
       "</div>"
      ],
      "text/plain": [
       "   YEAR  MONTH  DAY  DAY_OF_WEEK AIRLINE  FLIGHT_NUMBER TAIL_NUMBER  \\\n",
       "0  2015      1    1            4      AS             98      N407AS   \n",
       "1  2015      1    1            4      AA           2336      N3KUAA   \n",
       "2  2015      1    1            4      US            840      N171US   \n",
       "3  2015      1    1            4      AA            258      N3HYAA   \n",
       "4  2015      1    1            4      AS            135      N527AS   \n",
       "\n",
       "   SCHEDULED_DEPARTURE  DEPARTURE_TIME  DEPARTURE_DELAY    ...      \\\n",
       "0                    5          2354.0            -11.0    ...       \n",
       "1                   10             2.0             -8.0    ...       \n",
       "2                   20            18.0             -2.0    ...       \n",
       "3                   20            15.0             -5.0    ...       \n",
       "4                   25            24.0             -1.0    ...       \n",
       "\n",
       "   ARRIVAL_TIME_hour  ARRIVAL_TIME_min  ORIGIN_AIRPORT_fixed  \\\n",
       "0                4.0               8.0                   ANC   \n",
       "1                7.0              41.0                   LAX   \n",
       "2                8.0              11.0                   SFO   \n",
       "3                7.0              56.0                   LAX   \n",
       "4                2.0              59.0                   SEA   \n",
       "\n",
       "   DESTINATION_AIRPORT_fixed       DATE  Holiday  Holiday_1  Holiday_2  \\\n",
       "0                        SEA 2015-01-01      1.0        0.0        0.0   \n",
       "1                        PBI 2015-01-01      1.0        0.0        0.0   \n",
       "2                        CLT 2015-01-01      1.0        0.0        0.0   \n",
       "3                        MIA 2015-01-01      1.0        0.0        0.0   \n",
       "4                        ANC 2015-01-01      1.0        0.0        0.0   \n",
       "\n",
       "   Holiday_3  Holiday_5  \n",
       "0        0.0        0.0  \n",
       "1        0.0        0.0  \n",
       "2        0.0        0.0  \n",
       "3        0.0        0.0  \n",
       "4        0.0        0.0  \n",
       "\n",
       "[5 rows x 49 columns]"
      ]
     },
     "execution_count": 9,
     "metadata": {},
     "output_type": "execute_result"
    }
   ],
   "source": [
    "raw_df.head()"
   ]
  },
  {
   "cell_type": "markdown",
   "metadata": {},
   "source": [
    "Convert categorical data to encoded numerical data"
   ]
  },
  {
   "cell_type": "code",
   "execution_count": 10,
   "metadata": {},
   "outputs": [
    {
     "data": {
      "text/plain": [
       "YEAR                                  int64\n",
       "MONTH                                 int64\n",
       "DAY                                   int64\n",
       "DAY_OF_WEEK                           int64\n",
       "AIRLINE                              object\n",
       "FLIGHT_NUMBER                         int64\n",
       "TAIL_NUMBER                          object\n",
       "SCHEDULED_DEPARTURE                   int64\n",
       "DEPARTURE_TIME                      float64\n",
       "DEPARTURE_DELAY                     float64\n",
       "TAXI_OUT                            float64\n",
       "WHEELS_OFF                          float64\n",
       "SCHEDULED_TIME                      float64\n",
       "ELAPSED_TIME                        float64\n",
       "AIR_TIME                            float64\n",
       "DISTANCE                              int64\n",
       "WHEELS_ON                           float64\n",
       "TAXI_IN                             float64\n",
       "SCHEDULED_ARRIVAL                     int64\n",
       "ARRIVAL_TIME                        float64\n",
       "ARRIVAL_DELAY                       float64\n",
       "DIVERTED                              int64\n",
       "CANCELLED                             int64\n",
       "CANCELLATION_REASON                  object\n",
       "AIR_SYSTEM_DELAY                    float64\n",
       "SECURITY_DELAY                      float64\n",
       "AIRLINE_DELAY                       float64\n",
       "LATE_AIRCRAFT_DELAY                 float64\n",
       "WEATHER_DELAY                       float64\n",
       "SCHEDULED_DEPARTURE_hour            float64\n",
       "SCHEDULED_DEPARTURE_min             float64\n",
       "DEPARTURE_TIME_hour                 float64\n",
       "DEPARTURE_TIME_min                  float64\n",
       "WHEELS_OFF_hour                     float64\n",
       "WHEELS_OFF_min                      float64\n",
       "WHEELS_ON_hour                      float64\n",
       "WHEELS_ON_min                       float64\n",
       "SCHEDULED_ARRIVAL_hour              float64\n",
       "SCHEDULED_ARRIVAL_min               float64\n",
       "ARRIVAL_TIME_hour                   float64\n",
       "ARRIVAL_TIME_min                    float64\n",
       "ORIGIN_AIRPORT_fixed                 object\n",
       "DESTINATION_AIRPORT_fixed            object\n",
       "DATE                         datetime64[ns]\n",
       "Holiday                             float64\n",
       "Holiday_1                           float64\n",
       "Holiday_2                           float64\n",
       "Holiday_3                           float64\n",
       "Holiday_5                           float64\n",
       "dtype: object"
      ]
     },
     "execution_count": 10,
     "metadata": {},
     "output_type": "execute_result"
    }
   ],
   "source": [
    "raw_df.dtypes"
   ]
  },
  {
   "cell_type": "code",
   "execution_count": 11,
   "metadata": {},
   "outputs": [],
   "source": [
    "# convert categorical data to encoded values\n",
    "raw_df['AIRLINE_enc'], AIRLINE_encoder = encoder(raw_df['AIRLINE'].astype(str))\n",
    "raw_df['TAIL_NUMBER_enc'], TAIL_NUMBER_encoder = encoder(raw_df['TAIL_NUMBER'].astype(str))"
   ]
  },
  {
   "cell_type": "code",
   "execution_count": 14,
   "metadata": {},
   "outputs": [],
   "source": [
    "# we already have an encoder for the AIRPORT.  we will use the same one so the codes are the same\n",
    "raw_df['ORIGIN_AIRPORT_enc'] = airport_encoder.transform(raw_df['ORIGIN_AIRPORT_fixed'].values)"
   ]
  },
  {
   "cell_type": "code",
   "execution_count": 15,
   "metadata": {},
   "outputs": [],
   "source": [
    "raw_df['DESTINATION_AIRPORT_enc'] = airport_encoder.transform(raw_df['DESTINATION_AIRPORT_fixed'].values)"
   ]
  },
  {
   "cell_type": "code",
   "execution_count": 16,
   "metadata": {},
   "outputs": [
    {
     "data": {
      "text/html": [
       "<div>\n",
       "<style scoped>\n",
       "    .dataframe tbody tr th:only-of-type {\n",
       "        vertical-align: middle;\n",
       "    }\n",
       "\n",
       "    .dataframe tbody tr th {\n",
       "        vertical-align: top;\n",
       "    }\n",
       "\n",
       "    .dataframe thead th {\n",
       "        text-align: right;\n",
       "    }\n",
       "</style>\n",
       "<table border=\"1\" class=\"dataframe\">\n",
       "  <thead>\n",
       "    <tr style=\"text-align: right;\">\n",
       "      <th></th>\n",
       "      <th>YEAR</th>\n",
       "      <th>MONTH</th>\n",
       "      <th>DAY</th>\n",
       "      <th>DAY_OF_WEEK</th>\n",
       "      <th>AIRLINE</th>\n",
       "      <th>FLIGHT_NUMBER</th>\n",
       "      <th>TAIL_NUMBER</th>\n",
       "      <th>SCHEDULED_DEPARTURE</th>\n",
       "      <th>DEPARTURE_TIME</th>\n",
       "      <th>DEPARTURE_DELAY</th>\n",
       "      <th>...</th>\n",
       "      <th>DATE</th>\n",
       "      <th>Holiday</th>\n",
       "      <th>Holiday_1</th>\n",
       "      <th>Holiday_2</th>\n",
       "      <th>Holiday_3</th>\n",
       "      <th>Holiday_5</th>\n",
       "      <th>AIRLINE_enc</th>\n",
       "      <th>TAIL_NUMBER_enc</th>\n",
       "      <th>ORIGIN_AIRPORT_enc</th>\n",
       "      <th>DESTINATION_AIRPORT_enc</th>\n",
       "    </tr>\n",
       "  </thead>\n",
       "  <tbody>\n",
       "    <tr>\n",
       "      <th>0</th>\n",
       "      <td>2015</td>\n",
       "      <td>1</td>\n",
       "      <td>1</td>\n",
       "      <td>4</td>\n",
       "      <td>AS</td>\n",
       "      <td>98</td>\n",
       "      <td>N407AS</td>\n",
       "      <td>5</td>\n",
       "      <td>2354.0</td>\n",
       "      <td>-11.0</td>\n",
       "      <td>...</td>\n",
       "      <td>2015-01-01</td>\n",
       "      <td>1.0</td>\n",
       "      <td>0.0</td>\n",
       "      <td>0.0</td>\n",
       "      <td>0.0</td>\n",
       "      <td>0.0</td>\n",
       "      <td>1</td>\n",
       "      <td>1622</td>\n",
       "      <td>17</td>\n",
       "      <td>279</td>\n",
       "    </tr>\n",
       "    <tr>\n",
       "      <th>1</th>\n",
       "      <td>2015</td>\n",
       "      <td>1</td>\n",
       "      <td>1</td>\n",
       "      <td>4</td>\n",
       "      <td>AA</td>\n",
       "      <td>2336</td>\n",
       "      <td>N3KUAA</td>\n",
       "      <td>10</td>\n",
       "      <td>2.0</td>\n",
       "      <td>-8.0</td>\n",
       "      <td>...</td>\n",
       "      <td>2015-01-01</td>\n",
       "      <td>1.0</td>\n",
       "      <td>0.0</td>\n",
       "      <td>0.0</td>\n",
       "      <td>0.0</td>\n",
       "      <td>0.0</td>\n",
       "      <td>0</td>\n",
       "      <td>1556</td>\n",
       "      <td>177</td>\n",
       "      <td>237</td>\n",
       "    </tr>\n",
       "    <tr>\n",
       "      <th>2</th>\n",
       "      <td>2015</td>\n",
       "      <td>1</td>\n",
       "      <td>1</td>\n",
       "      <td>4</td>\n",
       "      <td>US</td>\n",
       "      <td>840</td>\n",
       "      <td>N171US</td>\n",
       "      <td>20</td>\n",
       "      <td>18.0</td>\n",
       "      <td>-2.0</td>\n",
       "      <td>...</td>\n",
       "      <td>2015-01-01</td>\n",
       "      <td>1.0</td>\n",
       "      <td>0.0</td>\n",
       "      <td>0.0</td>\n",
       "      <td>0.0</td>\n",
       "      <td>0.0</td>\n",
       "      <td>11</td>\n",
       "      <td>421</td>\n",
       "      <td>280</td>\n",
       "      <td>66</td>\n",
       "    </tr>\n",
       "    <tr>\n",
       "      <th>3</th>\n",
       "      <td>2015</td>\n",
       "      <td>1</td>\n",
       "      <td>1</td>\n",
       "      <td>4</td>\n",
       "      <td>AA</td>\n",
       "      <td>258</td>\n",
       "      <td>N3HYAA</td>\n",
       "      <td>20</td>\n",
       "      <td>15.0</td>\n",
       "      <td>-5.0</td>\n",
       "      <td>...</td>\n",
       "      <td>2015-01-01</td>\n",
       "      <td>1.0</td>\n",
       "      <td>0.0</td>\n",
       "      <td>0.0</td>\n",
       "      <td>0.0</td>\n",
       "      <td>0.0</td>\n",
       "      <td>0</td>\n",
       "      <td>1516</td>\n",
       "      <td>177</td>\n",
       "      <td>204</td>\n",
       "    </tr>\n",
       "    <tr>\n",
       "      <th>4</th>\n",
       "      <td>2015</td>\n",
       "      <td>1</td>\n",
       "      <td>1</td>\n",
       "      <td>4</td>\n",
       "      <td>AS</td>\n",
       "      <td>135</td>\n",
       "      <td>N527AS</td>\n",
       "      <td>25</td>\n",
       "      <td>24.0</td>\n",
       "      <td>-1.0</td>\n",
       "      <td>...</td>\n",
       "      <td>2015-01-01</td>\n",
       "      <td>1.0</td>\n",
       "      <td>0.0</td>\n",
       "      <td>0.0</td>\n",
       "      <td>0.0</td>\n",
       "      <td>0.0</td>\n",
       "      <td>1</td>\n",
       "      <td>2131</td>\n",
       "      <td>279</td>\n",
       "      <td>17</td>\n",
       "    </tr>\n",
       "  </tbody>\n",
       "</table>\n",
       "<p>5 rows × 53 columns</p>\n",
       "</div>"
      ],
      "text/plain": [
       "   YEAR  MONTH  DAY  DAY_OF_WEEK AIRLINE  FLIGHT_NUMBER TAIL_NUMBER  \\\n",
       "0  2015      1    1            4      AS             98      N407AS   \n",
       "1  2015      1    1            4      AA           2336      N3KUAA   \n",
       "2  2015      1    1            4      US            840      N171US   \n",
       "3  2015      1    1            4      AA            258      N3HYAA   \n",
       "4  2015      1    1            4      AS            135      N527AS   \n",
       "\n",
       "   SCHEDULED_DEPARTURE  DEPARTURE_TIME  DEPARTURE_DELAY  \\\n",
       "0                    5          2354.0            -11.0   \n",
       "1                   10             2.0             -8.0   \n",
       "2                   20            18.0             -2.0   \n",
       "3                   20            15.0             -5.0   \n",
       "4                   25            24.0             -1.0   \n",
       "\n",
       "            ...                  DATE  Holiday  Holiday_1  Holiday_2  \\\n",
       "0           ...            2015-01-01      1.0        0.0        0.0   \n",
       "1           ...            2015-01-01      1.0        0.0        0.0   \n",
       "2           ...            2015-01-01      1.0        0.0        0.0   \n",
       "3           ...            2015-01-01      1.0        0.0        0.0   \n",
       "4           ...            2015-01-01      1.0        0.0        0.0   \n",
       "\n",
       "   Holiday_3  Holiday_5  AIRLINE_enc  TAIL_NUMBER_enc  ORIGIN_AIRPORT_enc  \\\n",
       "0        0.0        0.0            1             1622                  17   \n",
       "1        0.0        0.0            0             1556                 177   \n",
       "2        0.0        0.0           11              421                 280   \n",
       "3        0.0        0.0            0             1516                 177   \n",
       "4        0.0        0.0            1             2131                 279   \n",
       "\n",
       "   DESTINATION_AIRPORT_enc  \n",
       "0                      279  \n",
       "1                      237  \n",
       "2                       66  \n",
       "3                      204  \n",
       "4                       17  \n",
       "\n",
       "[5 rows x 53 columns]"
      ]
     },
     "execution_count": 16,
     "metadata": {},
     "output_type": "execute_result"
    }
   ],
   "source": [
    "raw_df.head()"
   ]
  },
  {
   "cell_type": "markdown",
   "metadata": {},
   "source": [
    "## 2. Flight Types\n",
    "\n",
    "The data set contains information for flights that can be separated into three different groups\n",
    "- on-time/delayed/early\n",
    "- cancelled\n",
    "- diverted)."
   ]
  },
  {
   "cell_type": "code",
   "execution_count": 17,
   "metadata": {},
   "outputs": [
    {
     "data": {
      "text/plain": [
       "0    5803892\n",
       "1      15187\n",
       "Name: DIVERTED, dtype: int64"
      ]
     },
     "execution_count": 17,
     "metadata": {},
     "output_type": "execute_result"
    }
   ],
   "source": [
    "# count the number of diverted flights\n",
    "raw_df['DIVERTED'].value_counts()"
   ]
  },
  {
   "cell_type": "markdown",
   "metadata": {},
   "source": [
    "### 2.1 Diverted and Cancelled Flights\n",
    "Next let's examine the 'DIVERTED' and 'CANCELLED' flights."
   ]
  },
  {
   "cell_type": "code",
   "execution_count": 18,
   "metadata": {},
   "outputs": [
    {
     "data": {
      "text/plain": [
       "0    5729195\n",
       "1      89884\n",
       "Name: CANCELLED, dtype: int64"
      ]
     },
     "execution_count": 18,
     "metadata": {},
     "output_type": "execute_result"
    }
   ],
   "source": [
    "# count the number of cancelled flights\n",
    "raw_df['CANCELLED'].value_counts()"
   ]
  },
  {
   "cell_type": "code",
   "execution_count": 19,
   "metadata": {},
   "outputs": [
    {
     "name": "stdout",
     "output_type": "stream",
     "text": [
      "Number of Diverted and Cancelled Found where both are 1 = 0\n"
     ]
    }
   ],
   "source": [
    "# count the number of flights where both the diverted and cancelled are 1\n",
    "count = 0\n",
    "for row in raw_df.itertuples():\n",
    "    if row.DIVERTED == 1 and row.CANCELLED == 1:\n",
    "        print(row[0])\n",
    "        count += count\n",
    "\n",
    "print(\"Number of Diverted and Cancelled Found where both are 1 = {}\".format(count))"
   ]
  },
  {
   "cell_type": "code",
   "execution_count": 20,
   "metadata": {},
   "outputs": [
    {
     "data": {
      "text/plain": [
       "105071"
      ]
     },
     "execution_count": 20,
     "metadata": {},
     "output_type": "execute_result"
    }
   ],
   "source": [
    "# total number of diverted and cancelled flights\n",
    "raw_df['DIVERTED'].value_counts().loc[1] + raw_df['CANCELLED'].value_counts().loc[1]"
   ]
  },
  {
   "cell_type": "code",
   "execution_count": 21,
   "metadata": {},
   "outputs": [
    {
     "data": {
      "text/html": [
       "<div>\n",
       "<style scoped>\n",
       "    .dataframe tbody tr th:only-of-type {\n",
       "        vertical-align: middle;\n",
       "    }\n",
       "\n",
       "    .dataframe tbody tr th {\n",
       "        vertical-align: top;\n",
       "    }\n",
       "\n",
       "    .dataframe thead th {\n",
       "        text-align: right;\n",
       "    }\n",
       "</style>\n",
       "<table border=\"1\" class=\"dataframe\">\n",
       "  <thead>\n",
       "    <tr style=\"text-align: right;\">\n",
       "      <th></th>\n",
       "      <th>YEAR</th>\n",
       "      <th>MONTH</th>\n",
       "      <th>DAY</th>\n",
       "      <th>DAY_OF_WEEK</th>\n",
       "      <th>AIRLINE</th>\n",
       "      <th>FLIGHT_NUMBER</th>\n",
       "      <th>TAIL_NUMBER</th>\n",
       "      <th>SCHEDULED_DEPARTURE</th>\n",
       "      <th>DEPARTURE_TIME</th>\n",
       "      <th>DEPARTURE_DELAY</th>\n",
       "      <th>...</th>\n",
       "      <th>DATE</th>\n",
       "      <th>Holiday</th>\n",
       "      <th>Holiday_1</th>\n",
       "      <th>Holiday_2</th>\n",
       "      <th>Holiday_3</th>\n",
       "      <th>Holiday_5</th>\n",
       "      <th>AIRLINE_enc</th>\n",
       "      <th>TAIL_NUMBER_enc</th>\n",
       "      <th>ORIGIN_AIRPORT_enc</th>\n",
       "      <th>DESTINATION_AIRPORT_enc</th>\n",
       "    </tr>\n",
       "  </thead>\n",
       "  <tbody>\n",
       "    <tr>\n",
       "      <th>483174</th>\n",
       "      <td>2015</td>\n",
       "      <td>2</td>\n",
       "      <td>1</td>\n",
       "      <td>7</td>\n",
       "      <td>NK</td>\n",
       "      <td>416</td>\n",
       "      <td>N627NK</td>\n",
       "      <td>2215</td>\n",
       "      <td>2206.0</td>\n",
       "      <td>-9.0</td>\n",
       "      <td>...</td>\n",
       "      <td>2015-02-01</td>\n",
       "      <td>0.0</td>\n",
       "      <td>0.0</td>\n",
       "      <td>0.0</td>\n",
       "      <td>0.0</td>\n",
       "      <td>0.0</td>\n",
       "      <td>8</td>\n",
       "      <td>2706</td>\n",
       "      <td>114</td>\n",
       "      <td>151</td>\n",
       "    </tr>\n",
       "    <tr>\n",
       "      <th>619941</th>\n",
       "      <td>2015</td>\n",
       "      <td>2</td>\n",
       "      <td>10</td>\n",
       "      <td>2</td>\n",
       "      <td>NK</td>\n",
       "      <td>416</td>\n",
       "      <td>N632NK</td>\n",
       "      <td>2215</td>\n",
       "      <td>2206.0</td>\n",
       "      <td>-9.0</td>\n",
       "      <td>...</td>\n",
       "      <td>2015-02-10</td>\n",
       "      <td>0.0</td>\n",
       "      <td>0.0</td>\n",
       "      <td>0.0</td>\n",
       "      <td>0.0</td>\n",
       "      <td>0.0</td>\n",
       "      <td>8</td>\n",
       "      <td>2741</td>\n",
       "      <td>114</td>\n",
       "      <td>151</td>\n",
       "    </tr>\n",
       "    <tr>\n",
       "      <th>1720237</th>\n",
       "      <td>2015</td>\n",
       "      <td>4</td>\n",
       "      <td>20</td>\n",
       "      <td>1</td>\n",
       "      <td>NK</td>\n",
       "      <td>174</td>\n",
       "      <td>N630NK</td>\n",
       "      <td>1602</td>\n",
       "      <td>1857.0</td>\n",
       "      <td>175.0</td>\n",
       "      <td>...</td>\n",
       "      <td>2015-04-20</td>\n",
       "      <td>0.0</td>\n",
       "      <td>0.0</td>\n",
       "      <td>0.0</td>\n",
       "      <td>0.0</td>\n",
       "      <td>0.0</td>\n",
       "      <td>8</td>\n",
       "      <td>2728</td>\n",
       "      <td>114</td>\n",
       "      <td>183</td>\n",
       "    </tr>\n",
       "    <tr>\n",
       "      <th>1820960</th>\n",
       "      <td>2015</td>\n",
       "      <td>4</td>\n",
       "      <td>26</td>\n",
       "      <td>7</td>\n",
       "      <td>NK</td>\n",
       "      <td>720</td>\n",
       "      <td>N614NK</td>\n",
       "      <td>2059</td>\n",
       "      <td>2057.0</td>\n",
       "      <td>-2.0</td>\n",
       "      <td>...</td>\n",
       "      <td>2015-04-26</td>\n",
       "      <td>0.0</td>\n",
       "      <td>0.0</td>\n",
       "      <td>0.0</td>\n",
       "      <td>0.0</td>\n",
       "      <td>0.0</td>\n",
       "      <td>8</td>\n",
       "      <td>2626</td>\n",
       "      <td>85</td>\n",
       "      <td>86</td>\n",
       "    </tr>\n",
       "    <tr>\n",
       "      <th>2031482</th>\n",
       "      <td>2015</td>\n",
       "      <td>5</td>\n",
       "      <td>9</td>\n",
       "      <td>6</td>\n",
       "      <td>NK</td>\n",
       "      <td>324</td>\n",
       "      <td>N620NK</td>\n",
       "      <td>2130</td>\n",
       "      <td>2152.0</td>\n",
       "      <td>22.0</td>\n",
       "      <td>...</td>\n",
       "      <td>2015-05-09</td>\n",
       "      <td>0.0</td>\n",
       "      <td>0.0</td>\n",
       "      <td>0.0</td>\n",
       "      <td>0.0</td>\n",
       "      <td>0.0</td>\n",
       "      <td>8</td>\n",
       "      <td>2661</td>\n",
       "      <td>194</td>\n",
       "      <td>8</td>\n",
       "    </tr>\n",
       "    <tr>\n",
       "      <th>2034453</th>\n",
       "      <td>2015</td>\n",
       "      <td>5</td>\n",
       "      <td>10</td>\n",
       "      <td>7</td>\n",
       "      <td>NK</td>\n",
       "      <td>368</td>\n",
       "      <td>N534NK</td>\n",
       "      <td>825</td>\n",
       "      <td>1214.0</td>\n",
       "      <td>229.0</td>\n",
       "      <td>...</td>\n",
       "      <td>2015-05-10</td>\n",
       "      <td>0.0</td>\n",
       "      <td>0.0</td>\n",
       "      <td>0.0</td>\n",
       "      <td>0.0</td>\n",
       "      <td>0.0</td>\n",
       "      <td>8</td>\n",
       "      <td>2171</td>\n",
       "      <td>230</td>\n",
       "      <td>51</td>\n",
       "    </tr>\n",
       "  </tbody>\n",
       "</table>\n",
       "<p>6 rows × 53 columns</p>\n",
       "</div>"
      ],
      "text/plain": [
       "         YEAR  MONTH  DAY  DAY_OF_WEEK AIRLINE  FLIGHT_NUMBER TAIL_NUMBER  \\\n",
       "483174   2015      2    1            7      NK            416      N627NK   \n",
       "619941   2015      2   10            2      NK            416      N632NK   \n",
       "1720237  2015      4   20            1      NK            174      N630NK   \n",
       "1820960  2015      4   26            7      NK            720      N614NK   \n",
       "2031482  2015      5    9            6      NK            324      N620NK   \n",
       "2034453  2015      5   10            7      NK            368      N534NK   \n",
       "\n",
       "         SCHEDULED_DEPARTURE  DEPARTURE_TIME  DEPARTURE_DELAY  \\\n",
       "483174                  2215          2206.0             -9.0   \n",
       "619941                  2215          2206.0             -9.0   \n",
       "1720237                 1602          1857.0            175.0   \n",
       "1820960                 2059          2057.0             -2.0   \n",
       "2031482                 2130          2152.0             22.0   \n",
       "2034453                  825          1214.0            229.0   \n",
       "\n",
       "                  ...                  DATE  Holiday  Holiday_1  Holiday_2  \\\n",
       "483174            ...            2015-02-01      0.0        0.0        0.0   \n",
       "619941            ...            2015-02-10      0.0        0.0        0.0   \n",
       "1720237           ...            2015-04-20      0.0        0.0        0.0   \n",
       "1820960           ...            2015-04-26      0.0        0.0        0.0   \n",
       "2031482           ...            2015-05-09      0.0        0.0        0.0   \n",
       "2034453           ...            2015-05-10      0.0        0.0        0.0   \n",
       "\n",
       "         Holiday_3  Holiday_5  AIRLINE_enc  TAIL_NUMBER_enc  \\\n",
       "483174         0.0        0.0            8             2706   \n",
       "619941         0.0        0.0            8             2741   \n",
       "1720237        0.0        0.0            8             2728   \n",
       "1820960        0.0        0.0            8             2626   \n",
       "2031482        0.0        0.0            8             2661   \n",
       "2034453        0.0        0.0            8             2171   \n",
       "\n",
       "         ORIGIN_AIRPORT_enc  DESTINATION_AIRPORT_enc  \n",
       "483174                  114                      151  \n",
       "619941                  114                      151  \n",
       "1720237                 114                      183  \n",
       "1820960                  85                       86  \n",
       "2031482                 194                        8  \n",
       "2034453                 230                       51  \n",
       "\n",
       "[6 rows x 53 columns]"
      ]
     },
     "execution_count": 21,
     "metadata": {},
     "output_type": "execute_result"
    }
   ],
   "source": [
    "# check the 6 missing values SCHEDULED_TIME\n",
    "raw_df[raw_df['SCHEDULED_TIME'].isna()]"
   ]
  },
  {
   "cell_type": "code",
   "execution_count": 22,
   "metadata": {},
   "outputs": [
    {
     "data": {
      "text/plain": [
       "1    14721\n",
       "Name: CANCELLED, dtype: int64"
      ]
     },
     "execution_count": 22,
     "metadata": {},
     "output_type": "execute_result"
    }
   ],
   "source": [
    "# check the number of flights with missing TAIL_NUMBER are cancelled flights\n",
    "raw_df[raw_df['TAIL_NUMBER'].isna()]['CANCELLED'].value_counts()"
   ]
  },
  {
   "cell_type": "markdown",
   "metadata": {},
   "source": [
    "There are 15187 diverted (designated by a value of 1 in the 'DIVERTED' column) and 89884 cancelled (designated by a value of 1 in the 'CANCELLED' column) flights which account for 0.3 % and 1.5 %, respectively.  Further checking for the rows with missing 'TAIL_NUMBER' values are all confirms that they are all cancelled flights.  The 6 rows with missing values in SCHEDULED_TIME are either cancelled or diverted flights.\n",
    "\n",
    "Since the flights can be separated into three different groups (on-time/delayed/early,cancelled,diverted) with different data compositions, it makes sense to split the original data frame into 3 sub data frames"
   ]
  },
  {
   "cell_type": "code",
   "execution_count": 23,
   "metadata": {},
   "outputs": [
    {
     "data": {
      "text/plain": [
       "(15187, 53)"
      ]
     },
     "execution_count": 23,
     "metadata": {},
     "output_type": "execute_result"
    }
   ],
   "source": [
    "# split the dataframe for diverted\n",
    "df_diverted = raw_df[raw_df['DIVERTED'] == 1]\n",
    "df_diverted.shape"
   ]
  },
  {
   "cell_type": "code",
   "execution_count": 24,
   "metadata": {},
   "outputs": [
    {
     "data": {
      "text/plain": [
       "(89884, 53)"
      ]
     },
     "execution_count": 24,
     "metadata": {},
     "output_type": "execute_result"
    }
   ],
   "source": [
    "# split the dataframe cancelled\n",
    "df_cancelled = raw_df[raw_df['CANCELLED'] == 1]\n",
    "df_cancelled.shape"
   ]
  },
  {
   "cell_type": "code",
   "execution_count": 25,
   "metadata": {},
   "outputs": [
    {
     "data": {
      "text/plain": [
       "(5714008, 53)"
      ]
     },
     "execution_count": 25,
     "metadata": {},
     "output_type": "execute_result"
    }
   ],
   "source": [
    "# split the dataframe\n",
    "df_delayed = raw_df[(raw_df['CANCELLED'] == 0).values & (raw_df['DIVERTED'] == 0).values]\n",
    "df_delayed.shape"
   ]
  },
  {
   "cell_type": "markdown",
   "metadata": {},
   "source": [
    "### 2.2 Flight Delays"
   ]
  },
  {
   "cell_type": "markdown",
   "metadata": {},
   "source": [
    "Since the diverted and cancelled flights account for very small percentage of the total flights in 2015, let's examine the flight delay data frame first."
   ]
  },
  {
   "cell_type": "code",
   "execution_count": 26,
   "metadata": {},
   "outputs": [
    {
     "name": "stdout",
     "output_type": "stream",
     "text": [
      "Missing data distribution\n",
      "\n",
      "YEAR                               0\n",
      "MONTH                              0\n",
      "DAY                                0\n",
      "DAY_OF_WEEK                        0\n",
      "AIRLINE                            0\n",
      "FLIGHT_NUMBER                      0\n",
      "TAIL_NUMBER                        0\n",
      "SCHEDULED_DEPARTURE                0\n",
      "DEPARTURE_TIME                     0\n",
      "DEPARTURE_DELAY                    0\n",
      "TAXI_OUT                           0\n",
      "WHEELS_OFF                         0\n",
      "SCHEDULED_TIME                     0\n",
      "ELAPSED_TIME                       0\n",
      "AIR_TIME                           0\n",
      "DISTANCE                           0\n",
      "WHEELS_ON                          0\n",
      "TAXI_IN                            0\n",
      "SCHEDULED_ARRIVAL                  0\n",
      "ARRIVAL_TIME                       0\n",
      "ARRIVAL_DELAY                      0\n",
      "DIVERTED                           0\n",
      "CANCELLED                          0\n",
      "CANCELLATION_REASON          5714008\n",
      "AIR_SYSTEM_DELAY             4650569\n",
      "SECURITY_DELAY               4650569\n",
      "AIRLINE_DELAY                4650569\n",
      "LATE_AIRCRAFT_DELAY          4650569\n",
      "WEATHER_DELAY                4650569\n",
      "SCHEDULED_DEPARTURE_hour           0\n",
      "SCHEDULED_DEPARTURE_min            0\n",
      "DEPARTURE_TIME_hour                0\n",
      "DEPARTURE_TIME_min                 0\n",
      "WHEELS_OFF_hour                    0\n",
      "WHEELS_OFF_min                     0\n",
      "WHEELS_ON_hour                     0\n",
      "WHEELS_ON_min                      0\n",
      "SCHEDULED_ARRIVAL_hour             0\n",
      "SCHEDULED_ARRIVAL_min              0\n",
      "ARRIVAL_TIME_hour                  0\n",
      "ARRIVAL_TIME_min                   0\n",
      "ORIGIN_AIRPORT_fixed               0\n",
      "DESTINATION_AIRPORT_fixed          0\n",
      "DATE                               0\n",
      "Holiday                            0\n",
      "Holiday_1                          0\n",
      "Holiday_2                          0\n",
      "Holiday_3                          0\n",
      "Holiday_5                          0\n",
      "AIRLINE_enc                        0\n",
      "TAIL_NUMBER_enc                    0\n",
      "ORIGIN_AIRPORT_enc                 0\n",
      "DESTINATION_AIRPORT_enc            0\n",
      "dtype: int64\n",
      "\n",
      "5714008 out of 5714008 rows with missing data, about 100.00 %\n"
     ]
    }
   ],
   "source": [
    "# check again for Data with N/A\n",
    "checkRowsMissing(df_delayed)"
   ]
  },
  {
   "cell_type": "markdown",
   "metadata": {},
   "source": [
    "The missing values are only in the columns \"CANCELLATION_REASON,AIR_SYSTEM_DELAY,SECURITY_DELAY,AIRLINE_DELAY,LATE_AIRCRAFT_DELAY,WEATHER_DELAY\"\n",
    "\n",
    "We can now begin to drop non-relevant/unnecessary data columns\n",
    "\n",
    "- DIVERTED, CANCELLED and CANCELLATION_REASON: these are not necssary since non of the flights in this data frame are from diverted or cancelled flights\n",
    "- ELAPSED_TIME: from the definition ELAPSED_TIME is a combination of AIR_TIME+TAXI_IN+TAXI_OUT which is correlated with other those columns"
   ]
  },
  {
   "cell_type": "code",
   "execution_count": 27,
   "metadata": {},
   "outputs": [
    {
     "data": {
      "text/plain": [
       "(5714008, 49)"
      ]
     },
     "execution_count": 27,
     "metadata": {},
     "output_type": "execute_result"
    }
   ],
   "source": [
    "df_delayed = df_delayed.drop(['DIVERTED','CANCELLED',\n",
    "                              'CANCELLATION_REASON',\n",
    "                              'ELAPSED_TIME'],axis=1)\n",
    "df_delayed.shape"
   ]
  },
  {
   "cell_type": "code",
   "execution_count": 28,
   "metadata": {},
   "outputs": [
    {
     "name": "stdout",
     "output_type": "stream",
     "text": [
      "Missing data distribution\n",
      "\n",
      "YEAR                               0\n",
      "MONTH                              0\n",
      "DAY                                0\n",
      "DAY_OF_WEEK                        0\n",
      "AIRLINE                            0\n",
      "FLIGHT_NUMBER                      0\n",
      "TAIL_NUMBER                        0\n",
      "SCHEDULED_DEPARTURE                0\n",
      "DEPARTURE_TIME                     0\n",
      "DEPARTURE_DELAY                    0\n",
      "TAXI_OUT                           0\n",
      "WHEELS_OFF                         0\n",
      "SCHEDULED_TIME                     0\n",
      "AIR_TIME                           0\n",
      "DISTANCE                           0\n",
      "WHEELS_ON                          0\n",
      "TAXI_IN                            0\n",
      "SCHEDULED_ARRIVAL                  0\n",
      "ARRIVAL_TIME                       0\n",
      "ARRIVAL_DELAY                      0\n",
      "AIR_SYSTEM_DELAY             4650569\n",
      "SECURITY_DELAY               4650569\n",
      "AIRLINE_DELAY                4650569\n",
      "LATE_AIRCRAFT_DELAY          4650569\n",
      "WEATHER_DELAY                4650569\n",
      "SCHEDULED_DEPARTURE_hour           0\n",
      "SCHEDULED_DEPARTURE_min            0\n",
      "DEPARTURE_TIME_hour                0\n",
      "DEPARTURE_TIME_min                 0\n",
      "WHEELS_OFF_hour                    0\n",
      "WHEELS_OFF_min                     0\n",
      "WHEELS_ON_hour                     0\n",
      "WHEELS_ON_min                      0\n",
      "SCHEDULED_ARRIVAL_hour             0\n",
      "SCHEDULED_ARRIVAL_min              0\n",
      "ARRIVAL_TIME_hour                  0\n",
      "ARRIVAL_TIME_min                   0\n",
      "ORIGIN_AIRPORT_fixed               0\n",
      "DESTINATION_AIRPORT_fixed          0\n",
      "DATE                               0\n",
      "Holiday                            0\n",
      "Holiday_1                          0\n",
      "Holiday_2                          0\n",
      "Holiday_3                          0\n",
      "Holiday_5                          0\n",
      "AIRLINE_enc                        0\n",
      "TAIL_NUMBER_enc                    0\n",
      "ORIGIN_AIRPORT_enc                 0\n",
      "DESTINATION_AIRPORT_enc            0\n",
      "dtype: int64\n",
      "\n",
      "4650569 out of 5714008 rows with missing data, about 81.39 %\n"
     ]
    }
   ],
   "source": [
    "# check again for Data with N/A\n",
    "checkRowsMissing(df_delayed)"
   ]
  },
  {
   "cell_type": "markdown",
   "metadata": {},
   "source": [
    "For the remaining missing values in the columns \"AIR_SYSTEM_DELAY,SECURITY_DELAY,AIRLINE_DELAY,LATE_AIRCRAFT_DELAY,WEATHER_DELAY\", let's assume those are flights that are not delayed.  We can fill those values in with zeros."
   ]
  },
  {
   "cell_type": "code",
   "execution_count": 29,
   "metadata": {},
   "outputs": [],
   "source": [
    "df_delayed = df_delayed.fillna(0)"
   ]
  },
  {
   "cell_type": "markdown",
   "metadata": {},
   "source": [
    "Lets generate the target labels.  We will define delayed flight as flights that have ARRIVAL_DELAY > 0."
   ]
  },
  {
   "cell_type": "code",
   "execution_count": 30,
   "metadata": {},
   "outputs": [],
   "source": [
    "y_labels = (df_delayed['ARRIVAL_DELAY'] > 0).astype(float)"
   ]
  },
  {
   "cell_type": "code",
   "execution_count": 31,
   "metadata": {},
   "outputs": [
    {
     "name": "stdout",
     "output_type": "stream",
     "text": [
      "For all flights, 63.48 % of the flights are on-time/early, 36.52 % of the flights are delayed\n"
     ]
    },
    {
     "data": {
      "image/png": "[encoded data removed]",
      "text/plain": [
       "<Figure size 432x288 with 1 Axes>"
      ]
     },
     "metadata": {},
     "output_type": "display_data"
    }
   ],
   "source": [
    "# check for class imbalance\n",
    "counts = y_labels.value_counts()\n",
    "counts.plot.bar()\n",
    "print(\"For all flights, {:.2f} % of the flights are on-time/early, {:.2f} % of the flights are delayed\".format( \n",
    "      (counts.loc[0.0]/y_labels.shape[0]*100),\\\n",
    "     (counts.loc[1.0]/y_labels.shape[0]*100)))"
   ]
  },
  {
   "cell_type": "markdown",
   "metadata": {},
   "source": [
    "The classes are imbalanced.  This will be dealt with later."
   ]
  },
  {
   "cell_type": "markdown",
   "metadata": {},
   "source": [
    "## 2. Data visualization"
   ]
  },
  {
   "cell_type": "markdown",
   "metadata": {},
   "source": [
    "Let's visualize the data:"
   ]
  },
  {
   "cell_type": "code",
   "execution_count": 32,
   "metadata": {},
   "outputs": [],
   "source": [
    "# let's plot the distribution of the flight types\n",
    "ontime_counts = np.sum(y_labels==0)\n",
    "delayed_counts = np.sum(y_labels==1)\n",
    "cancelled_counts = df_cancelled.shape[0]\n",
    "diverted_counts = df_diverted.shape[0]\n",
    "total_counts = ontime_counts + delayed_counts + cancelled_counts + diverted_counts"
   ]
  },
  {
   "cell_type": "code",
   "execution_count": 33,
   "metadata": {},
   "outputs": [
    {
     "data": {
      "text/plain": [
       "(-1.1130984572382372,\n",
       " 1.117862235984605,\n",
       " -1.1180434783766209,\n",
       " 1.1129172148462214)"
      ]
     },
     "execution_count": 33,
     "metadata": {},
     "output_type": "execute_result"
    },
    {
     "data": {
      "image/png": "[encoded data removed]",
      "text/plain": [
       "<Figure size 720x540 with 1 Axes>"
      ]
     },
     "metadata": {},
     "output_type": "display_data"
    }
   ],
   "source": [
    "fig, axes = plt.subplots(1,1,figsize=(10,7.5))\n",
    "labels = ['On-time {:.1f}%'.format(ontime_counts/total_counts*100),\n",
    "          'Delayed {:.1f}%'.format(delayed_counts/total_counts*100),\n",
    "          'Cancelled {:.1f}%'.format(cancelled_counts/total_counts*100),\n",
    "          'Diverted {:.1f}%'.format(diverted_counts/total_counts*100)]\n",
    "plt.pie([ontime_counts,delayed_counts,cancelled_counts,diverted_counts],labels=labels)\n",
    "plt.axis('square') "
   ]
  },
  {
   "cell_type": "markdown",
   "metadata": {},
   "source": [
    "The fraction of diverted and cancelled flights are much smaller than the fraction of delayed flights.\n",
    "\n",
    "Next we will look at cancelled flights"
   ]
  },
  {
   "cell_type": "code",
   "execution_count": 34,
   "metadata": {},
   "outputs": [
    {
     "data": {
      "text/plain": [
       "Text(0.5,0,'Number of Cancellations')"
      ]
     },
     "execution_count": 34,
     "metadata": {},
     "output_type": "execute_result"
    },
    {
     "data": {
      "image/png": "[encoded data removed]",
      "text/plain": [
       "<Figure size 1440x1080 with 2 Axes>"
      ]
     },
     "metadata": {},
     "output_type": "display_data"
    }
   ],
   "source": [
    "fig, axes = plt.subplots(1,2,figsize=(20,15))\n",
    "plt.subplot(2,2,1)\n",
    "df_cancelled['CANCELLATION_REASON'].value_counts()[::-1].plot.barh()\n",
    "df_cancelled['CANCELLATION_REASON'].value_counts()\n",
    "plt.title('Cancellation Reasons')\n",
    "plt.xlabel('Number of Cancellations')\n",
    "plt.subplot(2,2,2)\n",
    "df_cancelled['AIRLINE'].value_counts()[::-1].plot.barh()\n",
    "df_cancelled['AIRLINE'].value_counts()\n",
    "plt.title('Cancellations by Airlines')\n",
    "plt.xlabel('Number of Cancellations')"
   ]
  },
  {
   "cell_type": "markdown",
   "metadata": {},
   "source": [
    "Reason for Cancellation of flight: \n",
    "- A - Airline/Carrier \n",
    "- B - Weather\n",
    "- C - National Air System;\n",
    "- D - Security\n",
    "\n",
    "Airline Codes:\n",
    "IATA_CODE,AIRLINE\n",
    "- UA,United Air Lines Inc.\n",
    "- AA,American Airlines Inc.\n",
    "- US,US Airways Inc.\n",
    "- F9,Frontier Airlines Inc.\n",
    "- B6,JetBlue Airways\n",
    "- OO,Skywest Airlines Inc.\n",
    "- AS,Alaska Airlines Inc.\n",
    "- NK,Spirit Air Lines\n",
    "- WN,Southwest Airlines Co.\n",
    "- DL,Delta Air Lines Inc.\n",
    "- EV,Atlantic Southeast Airlines\n",
    "- HA,Hawaiian Airlines Inc.\n",
    "- MQ,American Eagle Airlines Inc.\n",
    "- VX,Virgin America\n",
    "\n",
    "Weather is by far the most prevalent cause of flight cancellation followed by Airline/Carrier.  Southwest airlines 'WN' had the most cancellations.  American Airlines has the 4th highest number of cancellations.  However, American Eagle Airlines, Inc. which is a regional marketing brand of American Airlines had the 3rd highest number of cancellations.  Since American Airlines only has partial of the regional airline, we will focus on Americal Airline flights"
   ]
  },
  {
   "cell_type": "code",
   "execution_count": 35,
   "metadata": {},
   "outputs": [
    {
     "data": {
      "text/plain": [
       "WN    3409\n",
       "AA    2130\n",
       "EV    1994\n",
       "DL    1782\n",
       "OO    1579\n",
       "UA    1388\n",
       "MQ     816\n",
       "B6     730\n",
       "US     425\n",
       "AS     413\n",
       "NK     182\n",
       "F9     158\n",
       "VX     121\n",
       "HA      60\n",
       "Name: AIRLINE, dtype: int64"
      ]
     },
     "execution_count": 35,
     "metadata": {},
     "output_type": "execute_result"
    },
    {
     "data": {
      "image/png": "[encoded data removed]",
      "text/plain": [
       "<Figure size 1440x1080 with 1 Axes>"
      ]
     },
     "metadata": {},
     "output_type": "display_data"
    }
   ],
   "source": [
    "# Plot the diverted flights\n",
    "fig, axes = plt.subplots(1,1,figsize=(20,15))\n",
    "plt.subplot(2,2,1)\n",
    "df_diverted['AIRLINE'].value_counts()[::-1].plot.barh()\n",
    "plt.title('Diverted Flights by Airline')\n",
    "plt.xlabel('Number of Diverted Flights')\n",
    "df_diverted['AIRLINE'].value_counts()"
   ]
  },
  {
   "cell_type": "markdown",
   "metadata": {},
   "source": [
    "American Airlines has the 2nd highest number of diverted flights after Southwest."
   ]
  },
  {
   "cell_type": "code",
   "execution_count": 36,
   "metadata": {},
   "outputs": [
    {
     "data": {
      "text/plain": [
       "WN    470767\n",
       "AA    252191\n",
       "DL    250840\n",
       "OO    222435\n",
       "EV    213217\n",
       "UA    186227\n",
       "MQ    103505\n",
       "B6    101998\n",
       "US     76285\n",
       "AS     56953\n",
       "NK     56887\n",
       "F9     41232\n",
       "HA     30179\n",
       "VX     24180\n",
       "Name: AIRLINE, dtype: int64"
      ]
     },
     "execution_count": 36,
     "metadata": {},
     "output_type": "execute_result"
    },
    {
     "data": {
      "image/png": "[encoded data removed]",
      "text/plain": [
       "<Figure size 1440x1080 with 1 Axes>"
      ]
     },
     "metadata": {},
     "output_type": "display_data"
    }
   ],
   "source": [
    "# Plot the delayed flights\n",
    "fig, axes = plt.subplots(1,1,figsize=(20,15))\n",
    "plt.subplot(2,2,1)\n",
    "df_delayed[y_labels==1]['AIRLINE'].value_counts()[::-1].plot.barh()\n",
    "plt.title('Delayed Flights by Airline')\n",
    "plt.xlabel('Number of Delayed Flights')\n",
    "df_delayed[y_labels==1]['AIRLINE'].value_counts()"
   ]
  },
  {
   "cell_type": "markdown",
   "metadata": {},
   "source": [
    "American Airlines has the 2nd highest number of delayed flights after Southwest.  However, the number is on par with Delta with United Airlines not far behind."
   ]
  },
  {
   "cell_type": "markdown",
   "metadata": {},
   "source": [
    "Next we will groupby various columns in the data to visualize the distribution and the effect of the columns."
   ]
  },
  {
   "cell_type": "code",
   "execution_count": 37,
   "metadata": {},
   "outputs": [],
   "source": [
    "# lets examine the delayed flights\n",
    "grouped = df_delayed[y_labels == 1].groupby(['AIRLINE'])['ARRIVAL_DELAY']"
   ]
  },
  {
   "cell_type": "code",
   "execution_count": 80,
   "metadata": {},
   "outputs": [
    {
     "data": {
      "text/plain": [
       "[0, 150, 0, 200000]"
      ]
     },
     "execution_count": 80,
     "metadata": {},
     "output_type": "execute_result"
    },
    {
     "data": {
      "image/png": "[encoded data removed]",
      "text/plain": [
       "<Figure size 1080x540 with 1 Axes>"
      ]
     },
     "metadata": {},
     "output_type": "display_data"
    }
   ],
   "source": [
    "grouped.plot.hist(bins=100,stacked=True,alpha=0.5,figsize=(15,7.5))\n",
    "plt.legend()\n",
    "plt.title('Distribution of Arrival Delays by Airline')\n",
    "plt.xlabel('Arrival Delay (min)')\n",
    "plt.axis([0,150,0,200000])"
   ]
  },
  {
   "cell_type": "code",
   "execution_count": 70,
   "metadata": {},
   "outputs": [
    {
     "data": {
      "text/plain": [
       "AIRLINE\n",
       "HA    15.379767\n",
       "AS    22.562411\n",
       "US    27.419925\n",
       "WN    29.418496\n",
       "VX    30.725227\n",
       "DL    32.077424\n",
       "OO    32.437278\n",
       "AA    34.148364\n",
       "EV    35.198042\n",
       "B6    38.132807\n",
       "UA    39.209314\n",
       "MQ    39.509202\n",
       "NK    40.659852\n",
       "F9    41.190435\n",
       "Name: ARRIVAL_DELAY, dtype: float64"
      ]
     },
     "execution_count": 70,
     "metadata": {},
     "output_type": "execute_result"
    },
    {
     "data": {
      "image/png": "[encoded data removed]",
      "text/plain": [
       "<Figure size 1440x1080 with 1 Axes>"
      ]
     },
     "metadata": {},
     "output_type": "display_data"
    }
   ],
   "source": [
    "# Plot the delayed flights average delayed time\n",
    "fig, axes = plt.subplots(1,1,figsize=(20,15))\n",
    "plt.subplot(2,2,1)\n",
    "grouped.mean().sort_values(ascending=True).plot.barh()\n",
    "plt.title('Average Delay Time by Airline')\n",
    "plt.xlabel('Average Delay Time (min)')\n",
    "grouped.mean().sort_values(ascending=True)"
   ]
  },
  {
   "cell_type": "markdown",
   "metadata": {},
   "source": [
    "Plotting the average delay time shows that American Airlines has an average delay time of 34 min.  Hawaiian Airlines had the shortest delay time of 15 min, while JetBlue had the longest at 41 min."
   ]
  },
  {
   "cell_type": "markdown",
   "metadata": {},
   "source": [
    "Similary to the company plot, grouping by department,seniority, and salary show similar length at company trends.  The strongest peak is around 365 days with the second grouping peaking at around 730 days.  The peaks are higher at company one because they also have more employees in the data."
   ]
  },
  {
   "cell_type": "markdown",
   "metadata": {},
   "source": [
    "## 3. Model Fitting: Delayed Flights\n"
   ]
  },
  {
   "cell_type": "markdown",
   "metadata": {},
   "source": [
    "### 3.1 Data Preparation\n",
    "Since we are mainly interested in understanding the performance of American Airline flights, we will focus the study on AA delayed flights.\n",
    "\n",
    "We would like to understand the important factors that cause the delays.\n",
    "\n",
    "For the X feature matrix, we will drop non-related, previously encoded columns.  Additionally we will drop the DEPARTURE_DELAY column as it is the strongest predictor of flight delays.  However, it is likely a source of data leakage and it doesn't really tell us why the flight is delayed."
   ]
  },
  {
   "cell_type": "code",
   "execution_count": 81,
   "metadata": {},
   "outputs": [],
   "source": [
    "# get the data frame just for AA, drop the non numerical columns that were previously encoded\n",
    "df_delayed_AA = df_delayed[df_delayed['AIRLINE'] == 'AA']\n",
    "X_delayed_AA = df_delayed_AA.drop(['AIRLINE',\n",
    "                                   'TAIL_NUMBER',\n",
    "                                   'ORIGIN_AIRPORT_fixed',\n",
    "                                   'DESTINATION_AIRPORT_fixed',\n",
    "                                   'ARRIVAL_DELAY',\n",
    "                                   'DEPARTURE_DELAY',\n",
    "                                   'SCHEDULED_DEPARTURE',\n",
    "                                   'DEPARTURE_TIME',\n",
    "                                   'WHEELS_OFF',\n",
    "                                   'WHEELS_ON',\n",
    "                                   'SCHEDULED_ARRIVAL',\n",
    "                                   'ARRIVAL_TIME',\n",
    "                                    'DATE'],axis=1)"
   ]
  },
  {
   "cell_type": "code",
   "execution_count": 56,
   "metadata": {},
   "outputs": [
    {
     "data": {
      "text/html": [
       "<div>\n",
       "<style scoped>\n",
       "    .dataframe tbody tr th:only-of-type {\n",
       "        vertical-align: middle;\n",
       "    }\n",
       "\n",
       "    .dataframe tbody tr th {\n",
       "        vertical-align: top;\n",
       "    }\n",
       "\n",
       "    .dataframe thead th {\n",
       "        text-align: right;\n",
       "    }\n",
       "</style>\n",
       "<table border=\"1\" class=\"dataframe\">\n",
       "  <thead>\n",
       "    <tr style=\"text-align: right;\">\n",
       "      <th></th>\n",
       "      <th>YEAR</th>\n",
       "      <th>MONTH</th>\n",
       "      <th>DAY</th>\n",
       "      <th>DAY_OF_WEEK</th>\n",
       "      <th>FLIGHT_NUMBER</th>\n",
       "      <th>TAXI_OUT</th>\n",
       "      <th>SCHEDULED_TIME</th>\n",
       "      <th>AIR_TIME</th>\n",
       "      <th>DISTANCE</th>\n",
       "      <th>TAXI_IN</th>\n",
       "      <th>...</th>\n",
       "      <th>ARRIVAL_TIME_min</th>\n",
       "      <th>Holiday</th>\n",
       "      <th>Holiday_1</th>\n",
       "      <th>Holiday_2</th>\n",
       "      <th>Holiday_3</th>\n",
       "      <th>Holiday_5</th>\n",
       "      <th>AIRLINE_enc</th>\n",
       "      <th>TAIL_NUMBER_enc</th>\n",
       "      <th>ORIGIN_AIRPORT_enc</th>\n",
       "      <th>DESTINATION_AIRPORT_enc</th>\n",
       "    </tr>\n",
       "  </thead>\n",
       "  <tbody>\n",
       "    <tr>\n",
       "      <th>1</th>\n",
       "      <td>2015</td>\n",
       "      <td>1</td>\n",
       "      <td>1</td>\n",
       "      <td>4</td>\n",
       "      <td>2336</td>\n",
       "      <td>12.0</td>\n",
       "      <td>280.0</td>\n",
       "      <td>263.0</td>\n",
       "      <td>2330</td>\n",
       "      <td>4.0</td>\n",
       "      <td>...</td>\n",
       "      <td>41.0</td>\n",
       "      <td>1.0</td>\n",
       "      <td>0.0</td>\n",
       "      <td>0.0</td>\n",
       "      <td>0.0</td>\n",
       "      <td>0.0</td>\n",
       "      <td>0</td>\n",
       "      <td>1556</td>\n",
       "      <td>177</td>\n",
       "      <td>237</td>\n",
       "    </tr>\n",
       "    <tr>\n",
       "      <th>3</th>\n",
       "      <td>2015</td>\n",
       "      <td>1</td>\n",
       "      <td>1</td>\n",
       "      <td>4</td>\n",
       "      <td>258</td>\n",
       "      <td>15.0</td>\n",
       "      <td>285.0</td>\n",
       "      <td>258.0</td>\n",
       "      <td>2342</td>\n",
       "      <td>8.0</td>\n",
       "      <td>...</td>\n",
       "      <td>56.0</td>\n",
       "      <td>1.0</td>\n",
       "      <td>0.0</td>\n",
       "      <td>0.0</td>\n",
       "      <td>0.0</td>\n",
       "      <td>0.0</td>\n",
       "      <td>0</td>\n",
       "      <td>1516</td>\n",
       "      <td>177</td>\n",
       "      <td>204</td>\n",
       "    </tr>\n",
       "    <tr>\n",
       "      <th>8</th>\n",
       "      <td>2015</td>\n",
       "      <td>1</td>\n",
       "      <td>1</td>\n",
       "      <td>4</td>\n",
       "      <td>1112</td>\n",
       "      <td>17.0</td>\n",
       "      <td>195.0</td>\n",
       "      <td>173.0</td>\n",
       "      <td>1464</td>\n",
       "      <td>3.0</td>\n",
       "      <td>...</td>\n",
       "      <td>32.0</td>\n",
       "      <td>1.0</td>\n",
       "      <td>0.0</td>\n",
       "      <td>0.0</td>\n",
       "      <td>0.0</td>\n",
       "      <td>0.0</td>\n",
       "      <td>0</td>\n",
       "      <td>1561</td>\n",
       "      <td>280</td>\n",
       "      <td>86</td>\n",
       "    </tr>\n",
       "    <tr>\n",
       "      <th>11</th>\n",
       "      <td>2015</td>\n",
       "      <td>1</td>\n",
       "      <td>1</td>\n",
       "      <td>4</td>\n",
       "      <td>1674</td>\n",
       "      <td>21.0</td>\n",
       "      <td>268.0</td>\n",
       "      <td>238.0</td>\n",
       "      <td>2174</td>\n",
       "      <td>7.0</td>\n",
       "      <td>...</td>\n",
       "      <td>53.0</td>\n",
       "      <td>1.0</td>\n",
       "      <td>0.0</td>\n",
       "      <td>0.0</td>\n",
       "      <td>0.0</td>\n",
       "      <td>0.0</td>\n",
       "      <td>0</td>\n",
       "      <td>4110</td>\n",
       "      <td>175</td>\n",
       "      <td>204</td>\n",
       "    </tr>\n",
       "    <tr>\n",
       "      <th>21</th>\n",
       "      <td>2015</td>\n",
       "      <td>1</td>\n",
       "      <td>1</td>\n",
       "      <td>4</td>\n",
       "      <td>371</td>\n",
       "      <td>30.0</td>\n",
       "      <td>338.0</td>\n",
       "      <td>311.0</td>\n",
       "      <td>2724</td>\n",
       "      <td>6.0</td>\n",
       "      <td>...</td>\n",
       "      <td>39.0</td>\n",
       "      <td>1.0</td>\n",
       "      <td>0.0</td>\n",
       "      <td>0.0</td>\n",
       "      <td>0.0</td>\n",
       "      <td>0.0</td>\n",
       "      <td>0</td>\n",
       "      <td>1493</td>\n",
       "      <td>279</td>\n",
       "      <td>204</td>\n",
       "    </tr>\n",
       "  </tbody>\n",
       "</table>\n",
       "<p>5 rows × 36 columns</p>\n",
       "</div>"
      ],
      "text/plain": [
       "    YEAR  MONTH  DAY  DAY_OF_WEEK  FLIGHT_NUMBER  TAXI_OUT  SCHEDULED_TIME  \\\n",
       "1   2015      1    1            4           2336      12.0           280.0   \n",
       "3   2015      1    1            4            258      15.0           285.0   \n",
       "8   2015      1    1            4           1112      17.0           195.0   \n",
       "11  2015      1    1            4           1674      21.0           268.0   \n",
       "21  2015      1    1            4            371      30.0           338.0   \n",
       "\n",
       "    AIR_TIME  DISTANCE  TAXI_IN           ...             ARRIVAL_TIME_min  \\\n",
       "1      263.0      2330      4.0           ...                         41.0   \n",
       "3      258.0      2342      8.0           ...                         56.0   \n",
       "8      173.0      1464      3.0           ...                         32.0   \n",
       "11     238.0      2174      7.0           ...                         53.0   \n",
       "21     311.0      2724      6.0           ...                         39.0   \n",
       "\n",
       "    Holiday  Holiday_1  Holiday_2  Holiday_3  Holiday_5  AIRLINE_enc  \\\n",
       "1       1.0        0.0        0.0        0.0        0.0            0   \n",
       "3       1.0        0.0        0.0        0.0        0.0            0   \n",
       "8       1.0        0.0        0.0        0.0        0.0            0   \n",
       "11      1.0        0.0        0.0        0.0        0.0            0   \n",
       "21      1.0        0.0        0.0        0.0        0.0            0   \n",
       "\n",
       "    TAIL_NUMBER_enc  ORIGIN_AIRPORT_enc  DESTINATION_AIRPORT_enc  \n",
       "1              1556                 177                      237  \n",
       "3              1516                 177                      204  \n",
       "8              1561                 280                       86  \n",
       "11             4110                 175                      204  \n",
       "21             1493                 279                      204  \n",
       "\n",
       "[5 rows x 36 columns]"
      ]
     },
     "execution_count": 56,
     "metadata": {},
     "output_type": "execute_result"
    }
   ],
   "source": [
    "X_delayed_AA.head()"
   ]
  },
  {
   "cell_type": "code",
   "execution_count": 57,
   "metadata": {},
   "outputs": [],
   "source": [
    "y_labels_AA = y_labels[df_delayed['AIRLINE'] == 'AA']"
   ]
  },
  {
   "cell_type": "code",
   "execution_count": 58,
   "metadata": {},
   "outputs": [
    {
     "name": "stdout",
     "output_type": "stream",
     "text": [
      "For all flights, 64.63 % of the flights are on-time/early, 35.37 % of the flights are delayed\n"
     ]
    },
    {
     "data": {
      "image/png": "[encoded data removed]",
      "text/plain": [
       "<Figure size 432x288 with 1 Axes>"
      ]
     },
     "metadata": {},
     "output_type": "display_data"
    }
   ],
   "source": [
    "# check for class imbalance\n",
    "counts = y_labels_AA.value_counts()\n",
    "counts.plot.bar()\n",
    "print(\"For all flights, {:.2f} % of the flights are on-time/early, {:.2f} % of the flights are delayed\".format( \n",
    "      (counts.loc[0.0]/y_labels_AA.shape[0]*100),\\\n",
    "     (counts.loc[1.0]/y_labels_AA.shape[0]*100)))"
   ]
  },
  {
   "cell_type": "markdown",
   "metadata": {},
   "source": [
    "Similar to the data with all the airlines, there is a class imbalance.  We will subsample the data to balance the classes."
   ]
  },
  {
   "cell_type": "code",
   "execution_count": 59,
   "metadata": {},
   "outputs": [],
   "source": [
    "# split the data into test and train sets\n",
    "X_train, X_test, y_train, y_test = train_test_split(X_delayed_AA,np.array(y_labels_AA),\n",
    "                                                    test_size = 0.25,\n",
    "                                                    random_state = 42)"
   ]
  },
  {
   "cell_type": "code",
   "execution_count": 60,
   "metadata": {},
   "outputs": [
    {
     "name": "stderr",
     "output_type": "stream",
     "text": [
      "/Users/sl1885/anaconda/envs/insight/lib/python3.6/site-packages/ipykernel_launcher.py:3: SettingWithCopyWarning: \n",
      "A value is trying to be set on a copy of a slice from a DataFrame.\n",
      "Try using .loc[row_indexer,col_indexer] = value instead\n",
      "\n",
      "See the caveats in the documentation: http://pandas.pydata.org/pandas-docs/stable/indexing.html#indexing-view-versus-copy\n",
      "  This is separate from the ipykernel package so we can avoid doing imports until\n"
     ]
    }
   ],
   "source": [
    "# balance the classes in the training set, subsample the negative class to match the number of positive class\n",
    "composite = X_train\n",
    "composite['labels'] = y_train.reshape(-1,1)"
   ]
  },
  {
   "cell_type": "code",
   "execution_count": 61,
   "metadata": {},
   "outputs": [
    {
     "data": {
      "text/plain": [
       "(345393, 37)"
      ]
     },
     "execution_count": 61,
     "metadata": {},
     "output_type": "execute_result"
    }
   ],
   "source": [
    "composite_negative = composite[composite['labels'] == 0]\n",
    "composite_negative.shape"
   ]
  },
  {
   "cell_type": "code",
   "execution_count": 62,
   "metadata": {},
   "outputs": [
    {
     "data": {
      "text/plain": [
       "(189308, 37)"
      ]
     },
     "execution_count": 62,
     "metadata": {},
     "output_type": "execute_result"
    }
   ],
   "source": [
    "composite_positive = composite[composite['labels'] == 1]\n",
    "composite_positive.shape"
   ]
  },
  {
   "cell_type": "code",
   "execution_count": 63,
   "metadata": {},
   "outputs": [
    {
     "data": {
      "text/plain": [
       "(189308, 37)"
      ]
     },
     "execution_count": 63,
     "metadata": {},
     "output_type": "execute_result"
    }
   ],
   "source": [
    "from sklearn.utils import resample\n",
    "n_samples = composite_positive.shape[0]\n",
    "composite_negative_ds = resample(composite_negative,\n",
    "                       replace=False,\n",
    "                       n_samples=n_samples,\n",
    "                       random_state =10\n",
    "                      )\n",
    "composite_negative_ds.shape"
   ]
  },
  {
   "cell_type": "code",
   "execution_count": 64,
   "metadata": {},
   "outputs": [],
   "source": [
    "composite_ds = pd.concat([composite_negative_ds,composite_positive])\n",
    "X_train = np.array(composite_ds.drop('labels',axis=1))\n",
    "y_train = np.array(composite_ds['labels'])"
   ]
  },
  {
   "cell_type": "code",
   "execution_count": 99,
   "metadata": {},
   "outputs": [
    {
     "data": {
      "text/plain": [
       "<matplotlib.colorbar.Colorbar at 0x115aee1d0>"
      ]
     },
     "execution_count": 99,
     "metadata": {},
     "output_type": "execute_result"
    },
    {
     "data": {
      "image/png": "[encoded data removed]",
      "text/plain": [
       "<Figure size 288x288 with 2 Axes>"
      ]
     },
     "metadata": {},
     "output_type": "display_data"
    }
   ],
   "source": [
    "# Plot the correlation matrix\n",
    "corr = composite_ds.corr()\n",
    "plt.matshow(corr)\n",
    "plt.colorbar()"
   ]
  },
  {
   "cell_type": "markdown",
   "metadata": {},
   "source": [
    "The correlation matrix shows many regions of high collinearity.  We will have to use methods other than linear models."
   ]
  },
  {
   "cell_type": "markdown",
   "metadata": {},
   "source": [
    "Plot the data to check that the classes are balanced"
   ]
  },
  {
   "cell_type": "code",
   "execution_count": 65,
   "metadata": {},
   "outputs": [
    {
     "data": {
      "text/plain": [
       "<matplotlib.axes._subplots.AxesSubplot at 0x1164ce748>"
      ]
     },
     "execution_count": 65,
     "metadata": {},
     "output_type": "execute_result"
    },
    {
     "data": {
      "image/png": "[encoded data removed]",
      "text/plain": [
       "<Figure size 432x288 with 1 Axes>"
      ]
     },
     "metadata": {},
     "output_type": "display_data"
    }
   ],
   "source": [
    "composite_ds['labels'].value_counts().plot.bar()"
   ]
  },
  {
   "cell_type": "code",
   "execution_count": 66,
   "metadata": {},
   "outputs": [
    {
     "name": "stdout",
     "output_type": "stream",
     "text": [
      "Training Features Shape: (378616, 36)\n",
      "Training Labels Shape: (378616,)\n",
      "Testing Features Shape: (178234, 36)\n",
      "Testing Labels Shape: (178234,)\n"
     ]
    }
   ],
   "source": [
    "print('Training Features Shape:', X_train.shape)\n",
    "print('Training Labels Shape:', y_train.shape)\n",
    "print('Testing Features Shape:', X_test.shape)\n",
    "print('Testing Labels Shape:', y_test.shape)"
   ]
  },
  {
   "cell_type": "markdown",
   "metadata": {},
   "source": [
    "### 3.2 Naive/Baseline Model"
   ]
  },
  {
   "cell_type": "markdown",
   "metadata": {},
   "source": [
    "For the naive/baseline model, we will chose random guessing.  We will select the F1 Score as the evaluation metric."
   ]
  },
  {
   "cell_type": "code",
   "execution_count": 85,
   "metadata": {},
   "outputs": [],
   "source": [
    "y_pred_rand = np.random.randint(2,size=y_test.shape)"
   ]
  },
  {
   "cell_type": "code",
   "execution_count": 86,
   "metadata": {},
   "outputs": [
    {
     "name": "stdout",
     "output_type": "stream",
     "text": [
      "Normalized confusion matrix\n",
      "[[0.5 0.5]\n",
      " [0.5 0.5]]\n"
     ]
    },
    {
     "data": {
      "image/png": "[encoded data removed]",
      "text/plain": [
       "<Figure size 432x288 with 2 Axes>"
      ]
     },
     "metadata": {},
     "output_type": "display_data"
    }
   ],
   "source": [
    "# generate and plot the confusion matrix\n",
    "cnf_matrix  = confusion_matrix(y_test, y_pred_rand)\n",
    "np.set_printoptions(precision=2)\n",
    "\n",
    "# Plot non-normalized confusion matrix\n",
    "plt.figure()\n",
    "plot_confusion_matrix(cnf_matrix, normalize=True,\n",
    "title='Confusion matrix, with normalization')"
   ]
  },
  {
   "cell_type": "code",
   "execution_count": 87,
   "metadata": {},
   "outputs": [
    {
     "name": "stdout",
     "output_type": "stream",
     "text": [
      "F1 score: 0.42\n",
      "Recall score: 0.50\n",
      "Precision score: 0.35\n"
     ]
    }
   ],
   "source": [
    "print(\"F1 score: {:.2f}\".format(f1_score(y_test, y_pred_rand)))\n",
    "print(\"Recall score: {:.2f}\".format(recall_score(y_test, y_pred_rand)))\n",
    "print(\"Precision score: {:.2f}\".format(precision_score(y_test, y_pred_rand)))"
   ]
  },
  {
   "cell_type": "markdown",
   "metadata": {},
   "source": [
    "The naive model of random guessing had an F1 score of 0.42. As expected, it predicted half of the labels."
   ]
  },
  {
   "cell_type": "markdown",
   "metadata": {},
   "source": [
    "### 3.3 Random Forest Model"
   ]
  },
  {
   "cell_type": "markdown",
   "metadata": {},
   "source": [
    "Since the correlation matrix revealed several variables with high correlation, we will use a random forest classifier to fit the data.\n",
    "\n",
    "We will use GridSearchCV to assist with the parameter selection."
   ]
  },
  {
   "cell_type": "code",
   "execution_count": 67,
   "metadata": {},
   "outputs": [],
   "source": [
    "# Setup the Random Forest Model with Grid Search to find a good first pass model\n",
    "rf = RandomForestClassifier(random_state = 42,class_weight=\"balanced\")\n",
    "parameters = {'n_estimators':[10,50,100,200,500],\n",
    "              'max_depth':[3,5,7,10]\n",
    "             }\n",
    "\n",
    "clf = GridSearchCV(rf, parameters,cv = 3,n_jobs=-1,return_train_score=True,scoring='f1')"
   ]
  },
  {
   "cell_type": "code",
   "execution_count": 68,
   "metadata": {},
   "outputs": [
    {
     "data": {
      "text/plain": [
       "GridSearchCV(cv=3, error_score='raise',\n",
       "       estimator=RandomForestClassifier(bootstrap=True, class_weight='balanced',\n",
       "            criterion='gini', max_depth=None, max_features='auto',\n",
       "            max_leaf_nodes=None, min_impurity_decrease=0.0,\n",
       "            min_impurity_split=None, min_samples_leaf=1,\n",
       "            min_samples_split=2, min_weight_fraction_leaf=0.0,\n",
       "            n_estimators=10, n_jobs=1, oob_score=False, random_state=42,\n",
       "            verbose=0, warm_start=False),\n",
       "       fit_params=None, iid=True, n_jobs=-1,\n",
       "       param_grid={'n_estimators': [10, 50, 100, 200, 500], 'max_depth': [3, 5, 7, 10]},\n",
       "       pre_dispatch='2*n_jobs', refit=True, return_train_score=True,\n",
       "       scoring='f1', verbose=0)"
      ]
     },
     "execution_count": 68,
     "metadata": {},
     "output_type": "execute_result"
    }
   ],
   "source": [
    "# run the model with the training data\n",
    "clf.fit(X_train, y_train)"
   ]
  },
  {
   "cell_type": "code",
   "execution_count": 69,
   "metadata": {},
   "outputs": [
    {
     "data": {
      "text/plain": [
       "{'mean_fit_time': array([  4.95683932,  16.64463107,  30.06301268,  59.83913906,\n",
       "        144.40424164,   5.42146301,  22.94329739,  43.60862637,\n",
       "         95.23139675, 219.72444256,   7.06109929,  30.11580642,\n",
       "         56.17861835, 116.47318308, 289.76199961,   9.05814719,\n",
       "         39.12994361,  80.44200301, 180.5701201 , 359.76106429]),\n",
       " 'std_fit_time': array([ 0.13538629,  0.27797666,  0.48998023,  0.70528159,  0.99803368,\n",
       "         0.06695387,  0.47894994,  0.21907035,  0.46122933,  3.09585748,\n",
       "         0.10962839,  0.10416481,  0.71975446,  0.17710092,  2.86451532,\n",
       "         0.1158985 ,  0.07389602,  2.99081632,  4.75285186, 37.76922023]),\n",
       " 'mean_score_time': array([0.30198193, 0.673877  , 1.20012434, 2.47301157, 6.41127642,\n",
       "        0.27220265, 0.80897442, 1.45528261, 2.71634094, 6.60487819,\n",
       "        0.27107509, 0.85421689, 1.4905467 , 3.07636293, 7.90609455,\n",
       "        0.29901139, 1.0197173 , 1.91597637, 4.45082823, 6.43311667]),\n",
       " 'std_score_time': array([0.02400391, 0.06320526, 0.02681412, 0.04265016, 0.07352946,\n",
       "        0.02250436, 0.02221051, 0.05144702, 0.14316111, 0.09869579,\n",
       "        0.01265511, 0.04220622, 0.06033544, 0.05078302, 0.31425812,\n",
       "        0.01483919, 0.03467154, 0.06309083, 0.37546924, 0.5341814 ]),\n",
       " 'param_max_depth': masked_array(data=[3, 3, 3, 3, 3, 5, 5, 5, 5, 5, 7, 7, 7, 7, 7, 10, 10,\n",
       "                    10, 10, 10],\n",
       "              mask=[False, False, False, False, False, False, False, False,\n",
       "                    False, False, False, False, False, False, False, False,\n",
       "                    False, False, False, False],\n",
       "        fill_value='?',\n",
       "             dtype=object),\n",
       " 'param_n_estimators': masked_array(data=[10, 50, 100, 200, 500, 10, 50, 100, 200, 500, 10, 50,\n",
       "                    100, 200, 500, 10, 50, 100, 200, 500],\n",
       "              mask=[False, False, False, False, False, False, False, False,\n",
       "                    False, False, False, False, False, False, False, False,\n",
       "                    False, False, False, False],\n",
       "        fill_value='?',\n",
       "             dtype=object),\n",
       " 'params': [{'max_depth': 3, 'n_estimators': 10},\n",
       "  {'max_depth': 3, 'n_estimators': 50},\n",
       "  {'max_depth': 3, 'n_estimators': 100},\n",
       "  {'max_depth': 3, 'n_estimators': 200},\n",
       "  {'max_depth': 3, 'n_estimators': 500},\n",
       "  {'max_depth': 5, 'n_estimators': 10},\n",
       "  {'max_depth': 5, 'n_estimators': 50},\n",
       "  {'max_depth': 5, 'n_estimators': 100},\n",
       "  {'max_depth': 5, 'n_estimators': 200},\n",
       "  {'max_depth': 5, 'n_estimators': 500},\n",
       "  {'max_depth': 7, 'n_estimators': 10},\n",
       "  {'max_depth': 7, 'n_estimators': 50},\n",
       "  {'max_depth': 7, 'n_estimators': 100},\n",
       "  {'max_depth': 7, 'n_estimators': 200},\n",
       "  {'max_depth': 7, 'n_estimators': 500},\n",
       "  {'max_depth': 10, 'n_estimators': 10},\n",
       "  {'max_depth': 10, 'n_estimators': 50},\n",
       "  {'max_depth': 10, 'n_estimators': 100},\n",
       "  {'max_depth': 10, 'n_estimators': 200},\n",
       "  {'max_depth': 10, 'n_estimators': 500}],\n",
       " 'split0_test_score': array([0.70015417, 0.69579129, 0.69536213, 0.70396833, 0.71275328,\n",
       "        0.71240074, 0.72616271, 0.72820865, 0.73885924, 0.73646946,\n",
       "        0.73686844, 0.75031516, 0.75555097, 0.75325582, 0.75133781,\n",
       "        0.75929047, 0.76812336, 0.76625679, 0.76736037, 0.76835559]),\n",
       " 'split1_test_score': array([0.7052559 , 0.69950709, 0.6982538 , 0.71039795, 0.71378225,\n",
       "        0.72491571, 0.72589329, 0.72230791, 0.73568643, 0.73492919,\n",
       "        0.7349434 , 0.75118636, 0.75388679, 0.75197712, 0.7521142 ,\n",
       "        0.75079961, 0.76364483, 0.766887  , 0.76822236, 0.76988386]),\n",
       " 'split2_test_score': array([0.70340353, 0.69234978, 0.68792252, 0.70187442, 0.70894296,\n",
       "        0.72095014, 0.7259454 , 0.72234364, 0.73628914, 0.7365351 ,\n",
       "        0.74397932, 0.75432348, 0.75345479, 0.75307178, 0.75126816,\n",
       "        0.7671117 , 0.77028612, 0.77104264, 0.76960565, 0.77025225]),\n",
       " 'mean_test_score': array([0.70293786, 0.69588274, 0.69384618, 0.70541359, 0.71182618,\n",
       "        0.71942219, 0.72600047, 0.72428674, 0.73694494, 0.73597791,\n",
       "        0.73859703, 0.75194166, 0.75429752, 0.75276824, 0.75157339,\n",
       "        0.75906722, 0.76735142, 0.76806213, 0.76839612, 0.76949723]),\n",
       " 'std_test_score': array([0.00210865, 0.00292267, 0.00435181, 0.00362668, 0.00208155,\n",
       "        0.00522221, 0.00011668, 0.00277326, 0.0013758 , 0.00074205,\n",
       "        0.00388612, 0.00172134, 0.0009037 , 0.00056443, 0.00038346,\n",
       "        0.00666125, 0.00276569, 0.00212317, 0.00092483, 0.00082116]),\n",
       " 'rank_test_score': array([18, 19, 20, 17, 16, 15, 13, 14, 11, 12, 10,  8,  6,  7,  9,  5,  4,\n",
       "         3,  2,  1], dtype=int32),\n",
       " 'split0_train_score': array([0.7006218 , 0.69632424, 0.69599881, 0.70533826, 0.71335177,\n",
       "        0.71428714, 0.72655428, 0.72922576, 0.73983277, 0.73745675,\n",
       "        0.73851689, 0.75188587, 0.75751021, 0.7553175 , 0.75387524,\n",
       "        0.76367612, 0.77295787, 0.77144353, 0.77258952, 0.77332068]),\n",
       " 'split1_train_score': array([0.70605005, 0.70018118, 0.69830394, 0.71096262, 0.71444143,\n",
       "        0.72649457, 0.72731103, 0.72412889, 0.73733381, 0.73663179,\n",
       "        0.73650791, 0.75361617, 0.75542228, 0.75407303, 0.75408388,\n",
       "        0.7555169 , 0.76734858, 0.77111605, 0.77257991, 0.77443026]),\n",
       " 'split2_train_score': array([0.70300589, 0.69237476, 0.68843914, 0.70065582, 0.70868707,\n",
       "        0.71999055, 0.7248012 , 0.71984529, 0.73569422, 0.73566515,\n",
       "        0.74303317, 0.75358344, 0.75367109, 0.75301316, 0.75117089,\n",
       "        0.76852031, 0.77211529, 0.77347177, 0.77165553, 0.77203032]),\n",
       " 'mean_train_score': array([0.70322591, 0.69629339, 0.6942473 , 0.70565223, 0.71216009,\n",
       "        0.72025742, 0.72622217, 0.72439998, 0.73762026, 0.73658456,\n",
       "        0.73935265, 0.75302849, 0.75553453, 0.75413456, 0.75304334,\n",
       "        0.76257111, 0.77080724, 0.77201045, 0.77227499, 0.77326042]),\n",
       " 'std_train_score': array([0.00222153, 0.00318703, 0.00421342, 0.00421359, 0.00249576,\n",
       "        0.00498723, 0.0010512 , 0.00383436, 0.00170165, 0.00073218,\n",
       "        0.00272869, 0.00080807, 0.00156932, 0.00094175, 0.00132676,\n",
       "        0.00536581, 0.00246972, 0.00104192, 0.00043804, 0.0009807 ])}"
      ]
     },
     "execution_count": 69,
     "metadata": {},
     "output_type": "execute_result"
    }
   ],
   "source": [
    "# view the CV results\n",
    "clf.cv_results_"
   ]
  },
  {
   "cell_type": "markdown",
   "metadata": {},
   "source": [
    "The cross validation results from GridsearchCV shows that the depth of the tree had more effect on the f1 score than the number of estimators (tree).  No significant increase in the score was observed above 100 estimators, this is the number we will use.  We will choose the max_depth to be 10."
   ]
  },
  {
   "cell_type": "code",
   "execution_count": 100,
   "metadata": {},
   "outputs": [],
   "source": [
    "rf_best = RandomForestClassifier(random_state = 42,max_depth=10,n_estimators=100,class_weight=\"balanced\")"
   ]
  },
  {
   "cell_type": "code",
   "execution_count": 101,
   "metadata": {},
   "outputs": [
    {
     "data": {
      "text/plain": [
       "RandomForestClassifier(bootstrap=True, class_weight='balanced',\n",
       "            criterion='gini', max_depth=10, max_features='auto',\n",
       "            max_leaf_nodes=None, min_impurity_decrease=0.0,\n",
       "            min_impurity_split=None, min_samples_leaf=1,\n",
       "            min_samples_split=2, min_weight_fraction_leaf=0.0,\n",
       "            n_estimators=100, n_jobs=1, oob_score=False, random_state=42,\n",
       "            verbose=0, warm_start=False)"
      ]
     },
     "execution_count": 101,
     "metadata": {},
     "output_type": "execute_result"
    }
   ],
   "source": [
    "rf_best.fit(X_train,y_train)"
   ]
  },
  {
   "cell_type": "code",
   "execution_count": 102,
   "metadata": {},
   "outputs": [],
   "source": [
    "y_pred_rf = rf_best.predict(X_test)"
   ]
  },
  {
   "cell_type": "code",
   "execution_count": 105,
   "metadata": {},
   "outputs": [
    {
     "name": "stdout",
     "output_type": "stream",
     "text": [
      "The accuracy score for the model is  0.85\n"
     ]
    }
   ],
   "source": [
    "print(\"The accuracy score for the model is  {:.2f}\".format(rf_best.score(X_test,y_test)))"
   ]
  },
  {
   "cell_type": "code",
   "execution_count": 106,
   "metadata": {},
   "outputs": [
    {
     "name": "stdout",
     "output_type": "stream",
     "text": [
      "Normalized confusion matrix\n",
      "[[0.96 0.04]\n",
      " [0.34 0.66]]\n"
     ]
    },
    {
     "data": {
      "image/png": "[encoded data removed]",
      "text/plain": [
       "<Figure size 432x288 with 2 Axes>"
      ]
     },
     "metadata": {},
     "output_type": "display_data"
    }
   ],
   "source": [
    "# generate and plot the confusion matrix\n",
    "cnf_matrix  = confusion_matrix(y_test, y_pred_rf)\n",
    "np.set_printoptions(precision=2)\n",
    "\n",
    "# Plot non-normalized confusion matrix\n",
    "plt.figure()\n",
    "plot_confusion_matrix(cnf_matrix, normalize=True,\n",
    "title='Confusion matrix, with normalization')"
   ]
  },
  {
   "cell_type": "code",
   "execution_count": 107,
   "metadata": {},
   "outputs": [
    {
     "name": "stdout",
     "output_type": "stream",
     "text": [
      "F1 score: 0.76\n",
      "Recall score: 0.66\n",
      "Precision score: 0.89\n"
     ]
    }
   ],
   "source": [
    "print(\"F1 score: {:.2f}\".format(f1_score(y_test, y_pred_rf)))\n",
    "print(\"Recall score: {:.2f}\".format(recall_score(y_test, y_pred_rf)))\n",
    "print(\"Precision score: {:.2f}\".format(precision_score(y_test, y_pred_rf)))"
   ]
  },
  {
   "cell_type": "code",
   "execution_count": 108,
   "metadata": {},
   "outputs": [],
   "source": [
    "y_proba_rf = rf_best.predict_proba(X_test)"
   ]
  },
  {
   "cell_type": "code",
   "execution_count": 109,
   "metadata": {},
   "outputs": [
    {
     "name": "stdout",
     "output_type": "stream",
     "text": [
      "The auc_roc score is 0.89\n"
     ]
    }
   ],
   "source": [
    "# compute and ROC curve and AUC_ROC score\n",
    "from sklearn.metrics import roc_curve, auc\n",
    "fpr, tpr, _ = roc_curve(y_test,y_proba_rf[:,1])\n",
    "\n",
    "# compute the auc_roc\n",
    "auc_roc = auc(fpr,tpr)\n",
    "print(\"The auc_roc score is {:.2f}\".format(auc_roc))"
   ]
  },
  {
   "cell_type": "code",
   "execution_count": 110,
   "metadata": {},
   "outputs": [
    {
     "data": {
      "text/plain": [
       "<matplotlib.legend.Legend at 0x114ad2550>"
      ]
     },
     "execution_count": 110,
     "metadata": {},
     "output_type": "execute_result"
    },
    {
     "data": {
      "image/png": "[encoded data removed]",
      "text/plain": [
       "<Figure size 432x288 with 1 Axes>"
      ]
     },
     "metadata": {},
     "output_type": "display_data"
    }
   ],
   "source": [
    "# plot the ROC curve\n",
    "plt.plot(fpr,tpr,color='darkorange',\n",
    "        label='ROC curve (area = {:0.2f})'.format(auc_roc))\n",
    "plt.plot([0, 1], [0, 1], color='navy', linestyle='--')\n",
    "plt.xlim([0.0, 1.0])\n",
    "plt.ylim([0.0, 1.05])\n",
    "plt.xlabel('False Positive Rate')\n",
    "plt.ylabel('True Positive Rate')\n",
    "plt.title('Receiver operating characteristic curve')\n",
    "plt.legend(loc=\"lower right\")"
   ]
  },
  {
   "cell_type": "code",
   "execution_count": 111,
   "metadata": {},
   "outputs": [],
   "source": [
    "feature_importances = pd.DataFrame(rf_best.feature_importances_,\n",
    "                                   index = X_delayed_AA.columns,\n",
    "                                    columns=['Importance']).sort_values('Importance',ascending=False)"
   ]
  },
  {
   "cell_type": "code",
   "execution_count": 112,
   "metadata": {},
   "outputs": [
    {
     "data": {
      "text/html": [
       "<div>\n",
       "<style scoped>\n",
       "    .dataframe tbody tr th:only-of-type {\n",
       "        vertical-align: middle;\n",
       "    }\n",
       "\n",
       "    .dataframe tbody tr th {\n",
       "        vertical-align: top;\n",
       "    }\n",
       "\n",
       "    .dataframe thead th {\n",
       "        text-align: right;\n",
       "    }\n",
       "</style>\n",
       "<table border=\"1\" class=\"dataframe\">\n",
       "  <thead>\n",
       "    <tr style=\"text-align: right;\">\n",
       "      <th></th>\n",
       "      <th>Importance</th>\n",
       "    </tr>\n",
       "  </thead>\n",
       "  <tbody>\n",
       "    <tr>\n",
       "      <th>AIRLINE_DELAY</th>\n",
       "      <td>0.259810</td>\n",
       "    </tr>\n",
       "    <tr>\n",
       "      <th>AIR_SYSTEM_DELAY</th>\n",
       "      <td>0.253704</td>\n",
       "    </tr>\n",
       "    <tr>\n",
       "      <th>LATE_AIRCRAFT_DELAY</th>\n",
       "      <td>0.192309</td>\n",
       "    </tr>\n",
       "    <tr>\n",
       "      <th>TAXI_OUT</th>\n",
       "      <td>0.111029</td>\n",
       "    </tr>\n",
       "    <tr>\n",
       "      <th>TAXI_IN</th>\n",
       "      <td>0.038117</td>\n",
       "    </tr>\n",
       "    <tr>\n",
       "      <th>WEATHER_DELAY</th>\n",
       "      <td>0.024089</td>\n",
       "    </tr>\n",
       "    <tr>\n",
       "      <th>SCHEDULED_ARRIVAL_min</th>\n",
       "      <td>0.017102</td>\n",
       "    </tr>\n",
       "    <tr>\n",
       "      <th>WHEELS_OFF_hour</th>\n",
       "      <td>0.011917</td>\n",
       "    </tr>\n",
       "    <tr>\n",
       "      <th>ARRIVAL_TIME_hour</th>\n",
       "      <td>0.011275</td>\n",
       "    </tr>\n",
       "    <tr>\n",
       "      <th>DEPARTURE_TIME_hour</th>\n",
       "      <td>0.010951</td>\n",
       "    </tr>\n",
       "    <tr>\n",
       "      <th>SCHEDULED_ARRIVAL_hour</th>\n",
       "      <td>0.010773</td>\n",
       "    </tr>\n",
       "    <tr>\n",
       "      <th>WHEELS_ON_hour</th>\n",
       "      <td>0.010173</td>\n",
       "    </tr>\n",
       "    <tr>\n",
       "      <th>SCHEDULED_DEPARTURE_hour</th>\n",
       "      <td>0.010028</td>\n",
       "    </tr>\n",
       "    <tr>\n",
       "      <th>SCHEDULED_DEPARTURE_min</th>\n",
       "      <td>0.008726</td>\n",
       "    </tr>\n",
       "    <tr>\n",
       "      <th>SCHEDULED_TIME</th>\n",
       "      <td>0.004308</td>\n",
       "    </tr>\n",
       "    <tr>\n",
       "      <th>WHEELS_OFF_min</th>\n",
       "      <td>0.003780</td>\n",
       "    </tr>\n",
       "    <tr>\n",
       "      <th>ARRIVAL_TIME_min</th>\n",
       "      <td>0.003665</td>\n",
       "    </tr>\n",
       "    <tr>\n",
       "      <th>MONTH</th>\n",
       "      <td>0.003624</td>\n",
       "    </tr>\n",
       "    <tr>\n",
       "      <th>AIR_TIME</th>\n",
       "      <td>0.003337</td>\n",
       "    </tr>\n",
       "    <tr>\n",
       "      <th>DISTANCE</th>\n",
       "      <td>0.002279</td>\n",
       "    </tr>\n",
       "    <tr>\n",
       "      <th>WHEELS_ON_min</th>\n",
       "      <td>0.002236</td>\n",
       "    </tr>\n",
       "    <tr>\n",
       "      <th>DEPARTURE_TIME_min</th>\n",
       "      <td>0.002046</td>\n",
       "    </tr>\n",
       "    <tr>\n",
       "      <th>TAIL_NUMBER_enc</th>\n",
       "      <td>0.001088</td>\n",
       "    </tr>\n",
       "    <tr>\n",
       "      <th>ORIGIN_AIRPORT_enc</th>\n",
       "      <td>0.001071</td>\n",
       "    </tr>\n",
       "    <tr>\n",
       "      <th>FLIGHT_NUMBER</th>\n",
       "      <td>0.000874</td>\n",
       "    </tr>\n",
       "    <tr>\n",
       "      <th>DESTINATION_AIRPORT_enc</th>\n",
       "      <td>0.000659</td>\n",
       "    </tr>\n",
       "    <tr>\n",
       "      <th>DAY</th>\n",
       "      <td>0.000454</td>\n",
       "    </tr>\n",
       "    <tr>\n",
       "      <th>SECURITY_DELAY</th>\n",
       "      <td>0.000338</td>\n",
       "    </tr>\n",
       "    <tr>\n",
       "      <th>DAY_OF_WEEK</th>\n",
       "      <td>0.000126</td>\n",
       "    </tr>\n",
       "    <tr>\n",
       "      <th>Holiday_3</th>\n",
       "      <td>0.000033</td>\n",
       "    </tr>\n",
       "    <tr>\n",
       "      <th>Holiday_5</th>\n",
       "      <td>0.000029</td>\n",
       "    </tr>\n",
       "    <tr>\n",
       "      <th>Holiday_1</th>\n",
       "      <td>0.000017</td>\n",
       "    </tr>\n",
       "    <tr>\n",
       "      <th>Holiday_2</th>\n",
       "      <td>0.000017</td>\n",
       "    </tr>\n",
       "    <tr>\n",
       "      <th>Holiday</th>\n",
       "      <td>0.000016</td>\n",
       "    </tr>\n",
       "    <tr>\n",
       "      <th>AIRLINE_enc</th>\n",
       "      <td>0.000000</td>\n",
       "    </tr>\n",
       "    <tr>\n",
       "      <th>YEAR</th>\n",
       "      <td>0.000000</td>\n",
       "    </tr>\n",
       "  </tbody>\n",
       "</table>\n",
       "</div>"
      ],
      "text/plain": [
       "                          Importance\n",
       "AIRLINE_DELAY               0.259810\n",
       "AIR_SYSTEM_DELAY            0.253704\n",
       "LATE_AIRCRAFT_DELAY         0.192309\n",
       "TAXI_OUT                    0.111029\n",
       "TAXI_IN                     0.038117\n",
       "WEATHER_DELAY               0.024089\n",
       "SCHEDULED_ARRIVAL_min       0.017102\n",
       "WHEELS_OFF_hour             0.011917\n",
       "ARRIVAL_TIME_hour           0.011275\n",
       "DEPARTURE_TIME_hour         0.010951\n",
       "SCHEDULED_ARRIVAL_hour      0.010773\n",
       "WHEELS_ON_hour              0.010173\n",
       "SCHEDULED_DEPARTURE_hour    0.010028\n",
       "SCHEDULED_DEPARTURE_min     0.008726\n",
       "SCHEDULED_TIME              0.004308\n",
       "WHEELS_OFF_min              0.003780\n",
       "ARRIVAL_TIME_min            0.003665\n",
       "MONTH                       0.003624\n",
       "AIR_TIME                    0.003337\n",
       "DISTANCE                    0.002279\n",
       "WHEELS_ON_min               0.002236\n",
       "DEPARTURE_TIME_min          0.002046\n",
       "TAIL_NUMBER_enc             0.001088\n",
       "ORIGIN_AIRPORT_enc          0.001071\n",
       "FLIGHT_NUMBER               0.000874\n",
       "DESTINATION_AIRPORT_enc     0.000659\n",
       "DAY                         0.000454\n",
       "SECURITY_DELAY              0.000338\n",
       "DAY_OF_WEEK                 0.000126\n",
       "Holiday_3                   0.000033\n",
       "Holiday_5                   0.000029\n",
       "Holiday_1                   0.000017\n",
       "Holiday_2                   0.000017\n",
       "Holiday                     0.000016\n",
       "AIRLINE_enc                 0.000000\n",
       "YEAR                        0.000000"
      ]
     },
     "execution_count": 112,
     "metadata": {},
     "output_type": "execute_result"
    }
   ],
   "source": [
    "feature_importances"
   ]
  },
  {
   "cell_type": "code",
   "execution_count": 113,
   "metadata": {},
   "outputs": [
    {
     "data": {
      "image/png": "[encoded data removed]",
      "text/plain": [
       "<Figure size 1080x720 with 1 Axes>"
      ]
     },
     "metadata": {},
     "output_type": "display_data"
    }
   ],
   "source": [
    "ax = feature_importances[::-1].plot(kind='barh', title =\"variable importance\", figsize=(15, 10), fontsize=12)"
   ]
  },
  {
   "cell_type": "markdown",
   "metadata": {},
   "source": [
    "The random forest classifier performed better than the naive model with an f1 score of 0.76 compared to 0.42 for the naive model.  However, while it did okay on the precision score (0.89), the recall score was not as good (0.66) as it predicted a lot of false negatives.\n",
    "\n",
    "The feature importances show that the most important feature in predicting delays is AIRLINE_DELAY followed by AIR_SYSTEM, LATE_AIRCRAFT, TAXI_OUT and WEATHER_DELAY.  Some of these factors maybe confounded.\n",
    "\n",
    "It is interesting to note that the proximity to holidays was not an important feature in predicting delays or the airport."
   ]
  },
  {
   "cell_type": "markdown",
   "metadata": {},
   "source": [
    "## 4. Summary and Recommendations"
   ]
  },
  {
   "cell_type": "markdown",
   "metadata": {},
   "source": [
    "### Summary:\n",
    "In 2015, the passenger airline industry in the US had an on-time rate of 62.3 %.  The non on-time flights were composed of delayed (35.9 %), cancelled (1.5 %), and diverted (0.3 %) flights.\n",
    "\n",
    "While not the worst, American Airlines had high occurences of delayed, cancelled, and diverted flights compared to other large domestic airlines.  This potentially has negative impacts on customer satisfaction and brand equity.\n",
    "\n",
    "Weather may play a role in the lower on-time performance due to the fact that one of AA's major hubs is located at DFW airport, a thunderstorm and tornado prone area.  However, the modeling shows that, two of the major factors are airline delays and taxi time prior to take off.  These areas may be mitigated by changes within AA operations.\n",
    "\n",
    "### Recommendations:\n",
    "- To mitigate long taxi times prior to take off which may be due to airport congestion, the flight schedule can be adjusted to allocate more time for taxiing\n",
    "- The sources of airline delays may be due to mechanical problems with planes, delayed flight crews from previous flights, wait time for baggage loading/unloading, etc. These issues may be mitigated with internal review of the process to improve the efficiencies while balancing cost.  \n",
    "    - For example, mechanical problems with planes may be reduced with more frequent maintenance or more on-site availability of repair crews and parts -- but these come with increased costs.  \n",
    "    - It may also be helpful to have more standby crew available in case different crew are delayed by other flights.  This will reduce the propagation of delays from one flight to the next."
   ]
  },
  {
   "cell_type": "markdown",
   "metadata": {},
   "source": [
    "## More time..."
   ]
  },
  {
   "cell_type": "markdown",
   "metadata": {},
   "source": [
    "Thank you for the opportunity to complete this data challenge for Marubeni.  I believe I completed the challenge to my best ability within the given amount of time.  If I had more time, these are the items I would consider:\n",
    "\n",
    "- The random forest model performed okay.  Some of the other things I would try are:\n",
    "    - Finding additional data such as weather related data, or airport congestion statistics to incorporate into the model\n",
    "    - Increase the number of max_depth for the random forest.  This was computationally expensive, and I ran out of time to investigate this factor\n",
    "- Fit models to the diverted and cancelled flights"
   ]
  },
  {
   "cell_type": "code",
   "execution_count": null,
   "metadata": {},
   "outputs": [],
   "source": []
  }
 ],
 "metadata": {
  "kernelspec": {
   "display_name": "Python 3",
   "language": "python",
   "name": "python3"
  },
  "language_info": {
   "codemirror_mode": {
    "name": "ipython",
    "version": 3
   },
   "file_extension": ".py",
   "mimetype": "text/x-python",
   "name": "python",
   "nbconvert_exporter": "python",
   "pygments_lexer": "ipython3",
   "version": "3.6.5"
  }
 },
 "nbformat": 4,
 "nbformat_minor": 2
}
